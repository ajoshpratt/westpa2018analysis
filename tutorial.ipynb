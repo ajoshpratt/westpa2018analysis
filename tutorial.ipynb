{
 "cells": [
  {
   "cell_type": "markdown",
   "metadata": {
    "collapsed": true,
    "nbpresent": {
     "id": "687c88ec-55e5-469d-af6c-1be4e60dfd06"
    },
    "slideshow": {
     "slide_type": "slide"
    }
   },
   "source": [
    "**<center>w_ipa: Automated, Convenient Analysis!</center>**\n",
    "\n",
    "<center>by Audrey Pratt</center>"
   ]
  },
  {
   "cell_type": "code",
   "execution_count": 1,
   "metadata": {
    "nbpresent": {
     "id": "6345b628-8f0a-4878-a856-cd480a04d3d2"
    },
    "slideshow": {
     "slide_type": "skip"
    }
   },
   "outputs": [
    {
     "name": "stdout",
     "output_type": "stream",
     "text": [
      "\n",
      "Welcome to w_ipa (WESTPA Interactive Python Analysis) v. 1.0B!\n",
      "Run w.introduction for a more thorough introduction, or w.help to see a list of options.\n",
      "Running analysis & loading files.\n",
      "\n",
      "Complete!\n",
      "Setting iteration to iter 1500.\n",
      "\n",
      "        Call as a dictionary item or a .attribute:\n",
      "\n",
      "        w.past, w.current, w.future:\n",
      "            \n",
      "            aggregate_walkers auxdata bins color_prob_evolution conditional_flux_evolution direct \n",
      "            instant_matrix iteration matrix maxweight minweight parent parents pcoord rate_evolution \n",
      "            raw reweight seg_id state_pop_evolution states successful_trajectories summary \n",
      "            target_flux_evolution total_fluxes walkers weights\n",
      "\n",
      "        Raw schemes can be accessed as follows:\n",
      "\n",
      "            w.scheme.WORKSHOP/CANONICAL\n",
      "\n",
      "            and contain mostly the same datasets associated with w.\n",
      "\n",
      "        The following give raw access to the h5 files associated with the current scheme\n",
      "\n",
      "        w.west\n",
      "        w.assign\n",
      "        w.direct\n",
      "        w.reweight\n",
      "\n",
      "        OTHER:\n",
      "\n",
      "        w.bin_labels\n",
      "        w.current\n",
      "        w.future\n",
      "        w.iteration\n",
      "        w.list_schemes\n",
      "        w.niters\n",
      "        w.past\n",
      "        w.scheme\n",
      "        w.state_labels\n",
      "        w.trace\n",
      "        w.west\n",
      "        \n",
      "\n",
      "        \n"
     ]
    },
    {
     "data": {
      "text/plain": []
     },
     "execution_count": 1,
     "metadata": {},
     "output_type": "execute_result"
    }
   ],
   "source": [
    "# This is just a setup cell that allows us to use w_ipa in a notebook environment.\n",
    "# I need to run this to ensure that everything works, but I don't want to present this slide, as\n",
    "# we'll be runneven though I was ing things on a cluster and using the terminal utilities.\n",
    "\n",
    "%matplotlib inline\n",
    "from matplotlib import pyplot as plt\n",
    "import numpy as np\n",
    "import w_ipa\n",
    "w = w_ipa.WIPI()\n",
    "# At startup, it will load or run the analysis schemes specified in the configuration file (typically west.cfg)\n",
    "w.main()\n",
    "w.interface = 'matplotlib'\n",
    "\n",
    "# Prints out help.\n",
    "w"
   ]
  },
  {
   "cell_type": "markdown",
   "metadata": {
    "nbpresent": {
     "id": "ba01a41e-6ffb-48c3-af9c-183cbee30c14"
    },
    "slideshow": {
     "slide_type": "slide"
    }
   },
   "source": [
    "**<center>w_ipa: WESTPA Interactive Python Analysis</center>**\n",
    "\n",
    "w_ipa is a WESTPA tool that automates analysis using 'analysis schemes', and allows for interactive analysis of WESTPA data.  In this tutorial, I'll cover how to use this tool to do the following:\n",
    "\n",
    "1. Calculate rate constants/fluxes\n",
    "2. Adjust & and use alternate state definitions\n",
    "3. Trace segments (weight, pcoord, auxdata)\n",
    "4. Plot all of the above in the terminal!\n",
    "\n",
    "To begin running this tutorial, in your terminal on H2P, run the following:\n",
    "\n",
    "```\n",
    "git clone https://github.com/ajoshpratt/westpa2018analysis.git\n",
    "cd westpa2018analysis\n",
    "./create_conda_environment.sh\n",
    "```\n",
    "You'll need to answer 'y' to all the prompts.  Once it has finished:\n",
    "```\n",
    "./start.sh\n",
    "cd westpa2018analysis\n",
    "source env.sh\n",
    "cd SHORT_TEST\n",
    "w_ipa -t\n",
    "```\n",
    "\n",
    "Let's begin!"
   ]
  },
  {
   "cell_type": "markdown",
   "metadata": {
    "nbpresent": {
     "id": "11cb14cc-c15c-4e16-824f-579e314ba175"
    },
    "slideshow": {
     "slide_type": "slide"
    }
   },
   "source": [
    "**<center>How does analysis in WESTPA normally work?</center>**\n",
    "\n",
    "To calculate rate constants, fluxes, and state populations from a WE simulation run under equilibrium conditions, you must first split your simulation into separate steady-state ensembles and solve from there.  WESTPA comes with tools that can calculate these properties using either of the following methods:\n",
    "\n",
    "1. Non-Markovian reweighting (a matrix-based calculation)\n",
    "2. Direct calculation (*i.e.*, directly tracing trajectories and directly calculating properties)\n",
    "\n",
    "These tools, known as **w_reweight** and **w_direct**, appropriately, require that your parameter space is split into bins and that some bins correspond to a known 'state'.  The tool that accomplishes this is known as **w_assign**, which bins and assigns trajectory walkers (or *segments*) into different steady-state ensembles and places the output into a file called **assign.h5**, by default.\n",
    "\n",
    "**w_reweight/w_direct** will calculate and average rate constants, fluxes, and state populations according to whatever averaging scheme you choose.  Importantly, in a typical project, **you may wish to use various state definitions and/or averaging schemes!**"
   ]
  },
  {
   "cell_type": "markdown",
   "metadata": {
    "nbpresent": {
     "id": "b9307552-d89e-4dcd-a40d-3cbee0174ae7"
    },
    "slideshow": {
     "slide_type": "slide"
    }
   },
   "source": [
    "**<center>What is the typical analysis workflow?</center>**\n",
    "\n",
    "A typical analysis workflow is as follows:\n",
    "\n",
    "1. Create a bin space and define states that are appropriate for your system.\n",
    "2. Run w_assign with your bin scheme/state definitions and create **assign.h5**.\n",
    "3. Run w_reweight/w_direct with the averaging options you desire and create **reweight.h5/direct.h5**.\n",
    "\n",
    "If you choose to change bin definitions, state definitions, or your averaging scheme, you will overwrite assign.h5 and/or direct.h5/reweight.h5 when you re-run those tools.  ***It is critical that you keep track of which files pertain to which analysis scheme***.\n",
    "\n",
    "* assign.h5 contains information about the bins and state definitions used.\n",
    "* direct.h5/reweigh5.h5 contain information about what averaging scheme was used, but no information about the actual states.\n",
    "\n",
    "This introduces the possibility of error!"
   ]
  },
  {
   "cell_type": "markdown",
   "metadata": {
    "nbpresent": {
     "id": "e22d03cb-5c95-4fbd-8807-e320d93dde08"
    },
    "slideshow": {
     "slide_type": "slide"
    }
   },
   "source": [
    "**<center>What if we wish to analyze the simulation as it progresses?</center>**\n",
    "\n",
    "Running w_assign & w_direct/w_reweight while the simulation is on a cluster is straightforward.  However, visualization (such as creating graphs to analyze the evolution of the rate constant) typically requires creating PDFs, which can involve copying data to and from a local computer.\n",
    "\n",
    "In addition, analyzing the progress coordinate or auxiliary data (such as the RMSD of a protein or molecule) typically requires loading the main data file (typically **west.h5**) into python and running a custom analysis.\n",
    "\n",
    "Often, we simply want a fast answer to the question, *how is my simulation proceeding?*"
   ]
  },
  {
   "cell_type": "markdown",
   "metadata": {
    "nbpresent": {
     "id": "4270d5ae-f186-4fec-ac04-794ebef263a6"
    },
    "slideshow": {
     "slide_type": "subslide"
    }
   },
   "source": [
    "**<center>What about tracing the properties of a particular trajectory?</center>**\n",
    "\n",
    "One of the major strengths of the WE method is that it maintains complete trajectories.  Up until now, tracking properties of individual pathways over the course of the simulation has typically required writing custom python code and becoming familiar with the structure of the main data file (west.h5). "
   ]
  },
  {
   "cell_type": "markdown",
   "metadata": {
    "nbpresent": {
     "id": "c5b328ec-181e-4cbb-b08b-307604b78462"
    },
    "slideshow": {
     "slide_type": "slide"
    }
   },
   "source": [
    "**<center>w_ipa solves all of these problems!</center>**\n",
    "\n",
    "w_ipa allows for the creation of 'analysis schemes', stored in the west.cfg file, which involve the following:\n",
    "\n",
    "1. Bin and state definition.\n",
    "2. Averaging options\n",
    "\n",
    "w_ipa will automatically run any analysis necessary, and will update when any options are changed AND when the main data file (west.h5) has more iterations than when the analysis was previously run.  Therefore, **the results of w_ipa are always up to date with the options specified in the west.cfg file.**\n",
    "\n",
    "Once w_ipa has finished updating any analysis files necessary, it will drop you into an ipython prompt in which the object **w** gives easy access to analysis data, trajectory tracing functions, and tools that allow you to generate plots within the terminal (using ncurses). "
   ]
  },
  {
   "cell_type": "markdown",
   "metadata": {
    "nbpresent": {
     "id": "7793b7fa-ca7d-41e4-ab1d-9bfcbac4b479"
    },
    "slideshow": {
     "slide_type": "slide"
    }
   },
   "source": [
    "**<center>How is w_ipa configured?</center>**\n",
    "\n",
    "A WESTPA simulation primarily uses the **west.cfg** file, which can be considered the master parameter file. As such, w_ipa uses it as well, under the heading of a section titled **analysis**.\n",
    "\n",
    "The general format of the analysis section is as follows.  A more detailed example is available in the ipython notebook on the github site:\n",
    "\n",
    "```\n",
    "analysis:\n",
    "  directory: ANALYSIS # Where are we storing the analysis files?\n",
    "  OPTIONS THAT SHOULD APPLY TO EVERY SCHEME\n",
    "  analysis_schemes:\n",
    "    SCHEME_NAME:\n",
    "      OPTIONS THAT APPLY ONLY TO THIS SCHEME.  These take precedence over the general ones.\n",
    "      bins!\n",
    "      states!\n",
    "```\n",
    "\n",
    "The assign.h5, reweight.h5, and direct.h5 files are stored under ANALYSIS/SCHEME_NAME.\n",
    "\n",
    "The optional arguments that can be passed in to w_assign, w_direct, and w_reweight can be specified by creating a section with the tool name and using argument: value pairs.  We'll see an example in a minute!"
   ]
  },
  {
   "cell_type": "markdown",
   "metadata": {
    "nbpresent": {
     "id": "ea1aee9b-9e51-4077-a4ed-763d617fa84d"
    },
    "slideshow": {
     "slide_type": "skip"
    }
   },
   "source": [
    "If you're reading this, you've downloaded the ipython notebook!  Excellent!\n",
    "\n",
    "The best example really is what's in the west.cfg already, but here you go.\n",
    "```\n",
    "analysis:\n",
    "  directory: ANALYSIS # this is the directory where the analysis files are stored\n",
    "  postanalysis: True # should we run the Non-Markovian reweighting scheme?\n",
    "  kinetics:\n",
    "    # Command line arguments that we want applied to both w_direct and w_reweight for EVERY scheme\n",
    "  w_assign:\n",
    "    # Optional command line arguments for w_assign.  This would normally apply when you wish to use\n",
    "    # an auxiliary dataset for analysis.\n",
    "  analysis_schemes:\n",
    "    SCHEME_NAME:\n",
    "      enabled: True\n",
    "      kinetics:\n",
    "        # command line arguments that we want applied to this scheme only.\n",
    "      states: \n",
    "        - label: STATE_NAME\n",
    "          coords: [[X]] # A value for the state that will map to a bin.\n",
    "      bins:\n",
    "        - type: RectilinearBinMapper # WESTPA bin mapper type.\n",
    "          boundaries: [[0.0, 1000000]] # Should encompass all possible pcoord types.\n",
    "```"
   ]
  },
  {
   "cell_type": "markdown",
   "metadata": {
    "nbpresent": {
     "id": "3dddc220-b688-4e1d-8bd9-857530e738f2"
    },
    "slideshow": {
     "slide_type": "slide"
    }
   },
   "source": [
    "**<center>What's in OUR west.cfg?</center>**\n",
    "\n",
    "If you were to open west.cfg, you'd see the following at the bottom:\n",
    "\n",
    "```\n",
    "analysis:\n",
    "    directory: ANALYSIS\n",
    "    postanalysis: True\n",
    "    #w_assign:\n",
    "    #  construct_dataset: system.distpcoord\n",
    "    kinetics:\n",
    "      step_iter: 1\n",
    "      evolution: cumulative\n",
    "      extra: [ 'disable-correl' ]\n",
    "    analysis_schemes:\n",
    "      CANONICAL:\n",
    "        enabled: True\n",
    "        states:\n",
    "          - label: unbound\n",
    "            coords: [[24.0]]\n",
    "          - label: bound\n",
    "            coords: [[2.19]]\n",
    "        bins:\n",
    "          - type: RectilinearBinMapper\n",
    "            boundaries: [[0.0,2.2,24.00,100000]]\n",
    "```"
   ]
  },
  {
   "cell_type": "markdown",
   "metadata": {
    "nbpresent": {
     "id": "835c1769-dbe6-4a01-a327-f0c983506dbb"
    },
    "slideshow": {
     "slide_type": "slide"
    }
   },
   "source": [
    "Once you've run w_ipa, you should see something that looks like the following:\n",
    "```\n",
    "Welcome to w_ipa (WESTPA Interactive Python Analysis) v. 1.0B!\n",
    "Run w.introduction for a more thorough introduction, or w.help to see a list of options.\n",
    "Running analysis & loading files.\n",
    "\n",
    "Complete!\n",
    "Setting iteration to iter 98.\n",
    "Your current scheme, system and iteration are : CANONICAL, /gscratch2/lchong/ajp105/westpa2018analysis/SHORT_TEST, 98\n",
    "\n",
    "In [1]: \n",
    "```\n",
    "\n",
    "We can now begin analyzing this simulation!  In the directory SHORT_TEST, we're only analyzing the initial portion of the simulation, as analysis tools scale with the number of iterations."
   ]
  },
  {
   "cell_type": "code",
   "execution_count": 2,
   "metadata": {
    "nbpresent": {
     "id": "58222ecc-45d1-47bc-8448-7930caeb0322"
    },
    "slideshow": {
     "slide_type": "subslide"
    }
   },
   "outputs": [
    {
     "name": "stdout",
     "output_type": "stream",
     "text": [
      "The following schemes are available:\n",
      "\n",
      "0. Scheme: WORKSHOP\n",
      "1. Scheme: CANONICAL\n",
      "\n",
      "Set via name, or via the index listed.\n",
      "\n",
      "Current scheme: CANONICAL\n"
     ]
    }
   ],
   "source": [
    "# Let's list our schemes!\n",
    "\n",
    "w.list_schemes"
   ]
  },
  {
   "cell_type": "code",
   "execution_count": 3,
   "metadata": {
    "nbpresent": {
     "id": "ca3e3b42-d84d-45e5-a7fb-1225ef2a18b0"
    },
    "slideshow": {
     "slide_type": "slide"
    }
   },
   "outputs": [
    {
     "name": "stdout",
     "output_type": "stream",
     "text": [
      "CANONICAL\n",
      "WORKSHOP\n",
      "CANONICAL\n"
     ]
    }
   ],
   "source": [
    "# To change schemes, set w.scheme = 'SCHEME_NAME' or SCHEME_NUMBER\n",
    "# To print the current scheme, type w.scheme\n",
    "\n",
    "# The following will change the scheme to WORKSHOP, then back to canonical\n",
    "\n",
    "print(w.scheme)\n",
    "w.scheme = 0\n",
    "print(w.scheme)\n",
    "w.scheme = 'CANONICAL'\n",
    "print(w.scheme)"
   ]
  },
  {
   "cell_type": "markdown",
   "metadata": {
    "nbpresent": {
     "id": "33f759f0-534c-471f-a4f9-ffaafc0cf661"
    },
    "slideshow": {
     "slide_type": "slide"
    }
   },
   "source": [
    "**<center>How does interactive analysis in w_ipa work?</center>**\n",
    "\n",
    "w_ipa works by presenting an iteration and all its data as an object.  There are up to 3 iterations trivially available at all times, and are all centered around the idea of a 'current' iteration.  As noted in the introduction message, the current iteration is 98.\n",
    "\n",
    "You can change the active, or current, iteration by setting the w.iteration property to something else.  As our west.h5 only has 98 iterations, we can't go beyond this iteration.  Let's try setting it to iteration 90 by running the following:"
   ]
  },
  {
   "cell_type": "code",
   "execution_count": 4,
   "metadata": {
    "nbpresent": {
     "id": "60bd46fe-5f81-4cb5-b511-086edb6cdcc7"
    },
    "slideshow": {
     "slide_type": "subslide"
    }
   },
   "outputs": [
    {
     "name": "stdout",
     "output_type": "stream",
     "text": [
      "Setting iteration to iter 90.\n"
     ]
    }
   ],
   "source": [
    "w.iteration = 90"
   ]
  },
  {
   "cell_type": "markdown",
   "metadata": {
    "nbpresent": {
     "id": "fe7595c7-0f68-4ba2-bf2c-ac25f58a16c2"
    },
    "slideshow": {
     "slide_type": "subslide"
    }
   },
   "source": [
    "Great!  We have 3 iterations available to us: *current, past, future*\n",
    "\n",
    "What happens when we try to access one?  Let's just try the command and see."
   ]
  },
  {
   "cell_type": "code",
   "execution_count": 6,
   "metadata": {
    "nbpresent": {
     "id": "8be4c37a-7b7d-47b1-81fc-45521c3b2850"
    },
    "slideshow": {
     "slide_type": "subslide"
    }
   },
   "outputs": [
    {
     "data": {
      "text/plain": [
       "['aggregate_walkers', 'auxdata', 'bins', 'color_prob_evolution', 'conditional_flux_evolution', 'direct', 'instant_matrix', 'iteration', 'matrix', 'maxweight', 'minweight', 'parent', 'parents', 'pcoord', 'rate_evolution', 'raw', 'reweight', 'seg_id', 'state_pop_evolution', 'states', 'successful_trajectories', 'summary', 'target_flux_evolution', 'total_fluxes', 'walkers', 'weights']"
      ]
     },
     "execution_count": 6,
     "metadata": {},
     "output_type": "execute_result"
    }
   ],
   "source": [
    "w.current"
   ]
  },
  {
   "cell_type": "markdown",
   "metadata": {
    "nbpresent": {
     "id": "e359db69-5c42-48d8-8465-8f4484cfe46b"
    },
    "slideshow": {
     "slide_type": "subslide"
    }
   },
   "source": [
    "Whoa!  A python list of strings!  What do I do with it?"
   ]
  },
  {
   "cell_type": "markdown",
   "metadata": {
    "nbpresent": {
     "id": "44b84874-b00b-4840-9adc-10ba9ca62f29"
    },
    "slideshow": {
     "slide_type": "slide"
    }
   },
   "source": [
    "**<center>How do we use datasets/objects in w_ipa?</center>**\n",
    "\n",
    "w_ipa is mostly designed for *interactive analysis*, and so being able to quickly maneuver around, or manipulate, datasets is key.\n",
    "\n",
    "Most objects w_ipa presents you can be used like python dictionaries, or like objects with properties on them.  When you simply call the object (such as we did above, with w.current), it printed out a list of strings.  You can use these as keys, or as properties.\n",
    "\n",
    "For instance, the final string printed out above was 'weights'.  This is a dataset which contains the weights for all segments in the current iteration 90.  We can access it as follows:\n",
    "\n",
    "```\n",
    "w.current['weights']\n",
    "OR\n",
    "w.current.weights\n",
    "```\n",
    "\n",
    "As w_ipa is using jupyter (AKA ipython) under the hood, tab completion works as expected.  This makes accessing datasets as properties particularly useful.  For instance, try typing the following, then hitting tab instead of enter:\n",
    "\n",
    "    w.current.we\n",
    "\n",
    "Once you hit tab, this becomes:\n",
    "\n",
    "    w.current.weights\n",
    "    \n",
    "Hit enter, and you'll see it print out a numpy dataset containing the weights of each walker."
   ]
  },
  {
   "cell_type": "code",
   "execution_count": 7,
   "metadata": {
    "nbpresent": {
     "id": "d8ce95fc-26fa-4a0d-b28a-bb377a18f3be"
    },
    "slideshow": {
     "slide_type": "slide"
    }
   },
   "outputs": [
    {
     "data": {
      "text/plain": [
       "array([2.37902495e-02, 2.24505717e-02, 2.24505717e-02, 2.37902495e-02,\n",
       "       3.07322411e-02, 3.92306685e-02, 2.37902495e-02, 2.24505717e-02,\n",
       "       2.53466854e-02, 4.33784079e-02, 2.50961150e-02, 2.50961150e-02,\n",
       "       3.79921802e-02, 2.88010064e-02, 2.50961150e-02, 2.50961150e-02,\n",
       "       4.42894227e-02, 6.05068743e-02, 1.12581285e-01, 6.80698674e-02,\n",
       "       6.00044852e-02, 4.72685891e-02, 5.24888459e-02, 5.72208592e-02,\n",
       "       1.73039871e-03, 1.73039871e-03, 1.78734485e-03, 1.73039871e-03,\n",
       "       1.73039871e-03, 1.73039871e-03, 1.73039871e-03, 1.73039871e-03,\n",
       "       5.69461390e-05, 5.69461390e-05, 3.89134022e-05, 1.17761514e-04,\n",
       "       5.67160696e-05, 5.67160696e-05, 5.67160696e-05, 4.99784245e-05,\n",
       "       3.92538381e-05, 3.23787865e-05, 6.17831442e-05, 1.86652345e-05,\n",
       "       2.58441708e-05, 1.86652345e-05, 3.92538381e-05, 3.23787865e-05,\n",
       "       2.15004771e-05, 2.15004771e-05, 2.15004771e-05, 2.15004771e-05,\n",
       "       2.15004771e-05, 2.15004771e-05, 1.86652345e-05, 3.92538381e-05,\n",
       "       8.61472360e-05, 7.11917213e-05, 1.07237968e-04, 1.07237968e-04,\n",
       "       7.11917213e-05, 7.18591169e-05, 7.11917213e-05, 1.07237968e-04,\n",
       "       1.29002863e-04, 1.45075529e-04, 1.18852389e-04, 1.76408169e-04,\n",
       "       3.81770504e-04, 1.52867716e-04, 1.10355891e-04, 3.49358726e-04,\n",
       "       1.05016109e-04, 1.07237968e-04, 1.05016109e-04, 1.72003817e-04,\n",
       "       1.05016109e-04, 1.82964468e-04, 1.04445236e-04, 1.04445236e-04,\n",
       "       2.16895622e-04, 2.59745863e-04, 2.16895622e-04, 3.39126342e-04,\n",
       "       2.67431363e-04, 2.16895622e-04, 2.01475518e-04, 4.02951035e-04,\n",
       "       8.78749949e-04, 6.42101873e-04, 9.65920553e-04, 6.60911679e-04,\n",
       "       1.13139246e-03, 8.51884202e-04, 7.35899027e-04, 7.66520223e-04,\n",
       "       7.73080602e-04, 4.43015752e-04, 4.02397757e-04, 3.04868201e-04,\n",
       "       4.55806802e-04, 3.20323967e-04, 3.00538716e-04, 4.56733232e-04,\n",
       "       5.59163094e-04, 4.59069232e-04, 7.13077052e-04, 6.54226927e-04,\n",
       "       5.95772159e-04, 4.31503157e-04, 5.96903195e-04, 4.50808074e-04,\n",
       "       3.12577068e-05, 3.12577068e-05, 3.12577068e-05, 3.12577068e-05,\n",
       "       3.12577068e-05, 3.12577068e-05, 3.12577068e-05, 3.12577068e-05,\n",
       "       2.50061655e-04, 3.89335516e-04, 3.46345471e-04, 2.81646118e-04,\n",
       "       5.25237285e-04, 3.20323967e-04, 4.01147045e-04, 4.08445322e-04,\n",
       "       4.94374391e-04, 2.50061655e-04, 2.55181493e-04, 4.16086295e-04,\n",
       "       2.80357501e-04, 1.74004913e-04, 2.36039728e-04, 1.04014946e-04,\n",
       "       3.32681951e-04, 2.43367397e-04, 3.92968190e-04, 3.53632410e-04,\n",
       "       2.19689477e-04, 4.67087100e-04, 2.61664259e-04, 2.55181493e-04,\n",
       "       1.64366544e-04, 2.71908463e-04, 2.81064128e-04, 2.98050148e-04,\n",
       "       1.64366544e-04, 1.89243942e-04, 2.44056854e-04, 3.20323967e-04,\n",
       "       2.55181493e-04, 1.57810556e-04, 2.69884454e-04, 1.57810556e-04,\n",
       "       1.57810556e-04, 1.89365225e-04, 1.78834832e-04, 3.08048523e-04,\n",
       "       7.09078302e-05, 1.15364603e-04, 5.76823016e-05, 1.19403438e-04,\n",
       "       7.09078302e-05, 7.09078302e-05, 7.09078302e-05, 7.09078302e-05,\n",
       "       1.70697045e-04, 1.57472029e-04, 1.89243942e-04, 2.00573523e-04,\n",
       "       1.96484095e-04, 2.38214693e-04, 2.00573523e-04, 2.90003906e-04,\n",
       "       1.19618241e-04, 8.69391119e-05, 1.17106531e-04, 8.69391119e-05,\n",
       "       8.50857623e-05, 8.50857623e-05, 9.38928617e-05, 1.16697584e-04,\n",
       "       1.28824868e-04, 1.37594411e-04, 2.15845935e-04, 1.38987604e-04,\n",
       "       1.55516765e-04, 1.37594411e-04, 1.20644633e-04, 1.32728701e-04,\n",
       "       2.76060486e-04, 2.42250672e-04, 3.16007309e-04, 2.22108305e-04,\n",
       "       4.38228808e-04, 4.34105260e-04, 2.31580195e-04, 2.93646801e-04])"
      ]
     },
     "execution_count": 7,
     "metadata": {},
     "output_type": "execute_result"
    }
   ],
   "source": [
    "w.current.weights"
   ]
  },
  {
   "cell_type": "markdown",
   "metadata": {
    "nbpresent": {
     "id": "d4d85536-1120-476e-a997-dba4cc579114"
    },
    "slideshow": {
     "slide_type": "slide"
    }
   },
   "source": [
    "Wow!  That's a lot!  We can do this for other things, too!\n",
    "\n",
    "Some of these datasets aren't as immediately interesting as others (for instance, seg_id is simply the numerical seg_ids).  But pcoord and auxdata tend to be things we're interested in looking at.  Try running:\n",
    "\n",
    "    w.current.pcoord\n",
    "    w.current.auxdata\n",
    "    \n",
    "Don't forget that tab completion is your friend."
   ]
  },
  {
   "cell_type": "markdown",
   "metadata": {
    "nbpresent": {
     "id": "014fbee3-3191-4bbc-91ef-8481828f785e"
    },
    "slideshow": {
     "slide_type": "slide"
    }
   },
   "source": [
    "Okay, so that's a lot of data.  And we're certainly interested in analyzing that!  But what if we're only interested in looking at particular segments?\n",
    "\n",
    "You could manually find an 'interesting' segment, but w_ipa includes a few convenience functions to find segments you may find interesting.  In particular, w.current gives access to the following data:\n",
    "\n",
    "    maxweight\n",
    "    minweight\n",
    "    successful_trajectories\n",
    "    \n",
    "maxweight and minweight return objects which contain data about the segments that are the heaviest and lightest in the current iteration, accordingly.  successful_trajectories tells you which trajectories successfully made it from one state to another (defined by the states in your west.cfg).  For now, let's focus on the heaviest segment.  Is it something we're interested in looking at?"
   ]
  },
  {
   "cell_type": "code",
   "execution_count": 13,
   "metadata": {
    "nbpresent": {
     "id": "81c91429-eb3f-451b-aea2-3b7f6bed9d1e"
    },
    "slideshow": {
     "slide_type": "subslide"
    }
   },
   "outputs": [
    {
     "data": {
      "text/plain": [
       "['auxdata', 'bins', 'parents', 'pcoord', 'plotter', 'seg_id', 'states', 'weights']"
      ]
     },
     "execution_count": 13,
     "metadata": {},
     "output_type": "execute_result"
    }
   ],
   "source": [
    "w.current.maxweight"
   ]
  },
  {
   "cell_type": "code",
   "execution_count": 22,
   "metadata": {
    "nbpresent": {
     "id": "1eb750e7-c21c-45b5-b20c-7cc4ab045604"
    },
    "slideshow": {
     "slide_type": "subslide"
    }
   },
   "outputs": [
    {
     "name": "stdout",
     "output_type": "stream",
     "text": [
      "Seg ID:                           18\n",
      "weight:                           0.112581285343\n",
      "What post analysis bin are we in: [0 0 0 0 0 0 0 0 0 0 0]\n",
      "What state are we in:             [1 1 1 1 1 1 1 1 1 1 1]\n",
      "auxdata:                          {u'k_ether_o_rmsd': array([0., 0., 0., 0., 0., 0., 0., 0., 0., 0., 0.])}\n",
      "pcoord values:                    array([[1.050654  ],\n",
      "       [1.678754  ],\n",
      "       [1.3810539 ],\n",
      "       [0.974054  ],\n",
      "       [1.1174539 ],\n",
      "       [1.572054  ],\n",
      "       [1.5944539 ],\n",
      "       [1.392354  ],\n",
      "       [1.056754  ],\n",
      "       [1.324854  ],\n",
      "       [0.84605396]], dtype=float32)\n"
     ]
    }
   ],
   "source": [
    "# Let's look at a bunch of these properties!\n",
    "\n",
    "print('Seg ID:                           {}'.format(w.current.maxweight.seg_id))\n",
    "print('weight:                           {}'.format(w.current.maxweight.weights))\n",
    "print('What post analysis bin are we in: {}'.format(w.current.maxweight.bins))\n",
    "print('What state are we in:             {}'.format(w.current.maxweight.states))\n",
    "print('auxdata:                          {}'.format(w.current.maxweight.auxdata))\n",
    "print('pcoord values:                    {}'.format(w.current.maxweight.pcoord))"
   ]
  },
  {
   "cell_type": "markdown",
   "metadata": {
    "nbpresent": {
     "id": "2e102eb0-aba9-49f1-8b3f-bbc3aaba5b68"
    },
    "slideshow": {
     "slide_type": "slide"
    }
   },
   "source": [
    "**<center>Wait, these are all different lengths.  What gives?</center>**\n",
    "\n",
    "Each segment/trajectory/walker in WESTPA contains multiple frames of trajectory data.  For instance, in this WE simulation, each trajectory contains 11 timepoints.  Therefore, segment 18 in iteration 90 has 11 pcoord values, 11 auxdata values, and it can switch bins and states 11 times.\n",
    "\n",
    "However, the WE algorithm is only run at the *end* of the simulation, and this is where properties such as the weight and seg_id are updated.  Therefore, those are integer datatypes.\n",
    "\n",
    "auxdata is a little unique: our simulations can contain any number of auxiliary datasets with any unique name.  Here, they're returned as a dictionary where the key: value pair is the dataset name defined in west.cfg, and the value is a numpy array containing the actual dataset."
   ]
  },
  {
   "cell_type": "markdown",
   "metadata": {
    "nbpresent": {
     "id": "e1a1e148-4f8c-4d46-b54b-b7f1d31657de"
    },
    "slideshow": {
     "slide_type": "slide"
    }
   },
   "source": [
    "**<center>What is state 1?  How am I supposed to remember what that is?</center>**\n",
    "\n",
    "Segment 18 above was in state 1 during the entire iteration.  But what IS state 1?\n",
    "\n",
    "**State 1 is whatever we defined it to be in west.cfg**\n",
    "\n",
    "But we don't have to go back to west.cfg to see it.  Simply run:\n",
    "\n",
    "    w.state_labels\n",
    "    \n",
    "to remember what state 1 actually is.\n",
    "\n",
    "It's also in bin 0 the entire time (note that these are the bins defined in west.cfg for this analysis scheme, NOT what was used in the simulation).  What's the pcoord value of that bin?  Run:\n",
    "\n",
    "    w.bin_labels\n",
    "    \n",
    "to find out."
   ]
  },
  {
   "cell_type": "code",
   "execution_count": 23,
   "metadata": {
    "nbpresent": {
     "id": "ce8fcf42-b796-4c29-8599-7f08cbed7112"
    },
    "slideshow": {
     "slide_type": "subslide"
    }
   },
   "outputs": [
    {
     "name": "stdout",
     "output_type": "stream",
     "text": [
      "State labels and definitions!\n",
      "0: unbound\n",
      "1: bound\n",
      "2: Unknown\n"
     ]
    }
   ],
   "source": [
    "w.state_labels"
   ]
  },
  {
   "cell_type": "code",
   "execution_count": 27,
   "metadata": {
    "nbpresent": {
     "id": "5987ea88-8161-437a-a529-bcf6dba24a79"
    },
    "slideshow": {
     "slide_type": "subslide"
    }
   },
   "outputs": [
    {
     "name": "stdout",
     "output_type": "stream",
     "text": [
      "Bin definitions! \n",
      "0: [(0.0, 2.2)]\n",
      "1: [(2.2, 24.0)]\n",
      "2: [(24.0, 100000)]\n"
     ]
    }
   ],
   "source": [
    "w.bin_labels"
   ]
  },
  {
   "cell_type": "markdown",
   "metadata": {
    "nbpresent": {
     "id": "d9b101b3-2d0d-45fc-ad7d-e341f4ebd6aa"
    },
    "slideshow": {
     "slide_type": "subslide"
    }
   },
   "source": [
    "Ah, so this segment was in the bound state ensemble, and the pcoord value remained between 0.0 and 2.2 for this iteration.  Well, we can see that from the pcoord value, as well."
   ]
  },
  {
   "cell_type": "markdown",
   "metadata": {
    "nbpresent": {
     "id": "5af58107-e748-4371-8db4-da5e038928dc"
    },
    "slideshow": {
     "slide_type": "slide"
    }
   },
   "source": [
    "**<center>What is the history of segment 18?  What about any children it has?</center>**\n",
    "\n",
    "Okay, so we know what segment 18 was doing during this time frame.  But where did it come from?  And if it was a parent, did anything interesting happen with the children?\n",
    "\n",
    "w.past and w.future are here for this exact reason.  They're very similar to w.current, but they are keyed to give information about the segments in w.current.\n",
    "\n",
    "For instance, if we wish to figure out what the weight of segment 18's parent was, we COULD run the following code:\n",
    "\n",
    "    parent = w.current[18].parents\n",
    "    w.iteration -= 1\n",
    "    w.current[parent].weights\n",
    "\n",
    "That's a bit messy, though.  Why not just run:\n",
    "\n",
    "    w.past[18].weights\n",
    "    \n",
    "instead?  And if we wanted to figure out whether parent 18 had any children, we COULD run the following python code:\n",
    "\n",
    "    w.iteration += 1\n",
    "    children = np.where(w.current.parents == 18)[0]\n",
    "    w.current[children]\n",
    "    \n",
    "but running the following is a lot easier:\n",
    "\n",
    "    w.future[18]\n",
    "    \n",
    "It's worth remembering that segments always have a past, but not always a future.  In addition, segments may produce *multiple* children, and so the values returned by `w.future[seg_id]` are usually more complicated.  Let's see how."
   ]
  },
  {
   "cell_type": "code",
   "execution_count": 38,
   "metadata": {
    "nbpresent": {
     "id": "227cad24-067b-47b7-b09e-77dda4265cf5"
    },
    "slideshow": {
     "slide_type": "slide"
    }
   },
   "outputs": [
    {
     "name": "stdout",
     "output_type": "stream",
     "text": [
      "Segment 18 parent weight:      0.112581285343\n",
      "Segment 18 number of children: 3\n"
     ]
    }
   ],
   "source": [
    "# What was our parent weight?  And what about the children?\n",
    "\n",
    "print('Segment 18 parent weight:      {}'.format(w.past[18].weights))\n",
    "print('Segment 18 number of children: {}'.format(w.future[18].seg_id.shape[0]))"
   ]
  },
  {
   "cell_type": "markdown",
   "metadata": {
    "nbpresent": {
     "id": "af9a6817-458f-458b-ba82-05081f44dec4"
    },
    "slideshow": {
     "slide_type": "subslide"
    }
   },
   "source": [
    "If you noticed, I've been accessing w.future and w.past using a numerical value (18) referring to a particular seg_id.  I can do the same for w.current; try running `w.current[18]` and see what values you can access!\n",
    "\n",
    "It looks like we have 3 children.  We can determine their seg_ids and weights pretty easily."
   ]
  },
  {
   "cell_type": "code",
   "execution_count": 39,
   "metadata": {
    "nbpresent": {
     "id": "6463e59b-9a21-4423-bfc4-b0f7cb1c86ad"
    },
    "slideshow": {
     "slide_type": "subslide"
    }
   },
   "outputs": [
    {
     "name": "stdout",
     "output_type": "stream",
     "text": [
      "[18 21 22]\n",
      "[0.0375271 0.0375271 0.0375271]\n"
     ]
    }
   ],
   "source": [
    "print(w.future[18].seg_id)\n",
    "print(w.future[18].weights)"
   ]
  },
  {
   "cell_type": "markdown",
   "metadata": {
    "nbpresent": {
     "id": "234a3043-0d09-4257-8d0a-eeeb36a4da28"
    },
    "slideshow": {
     "slide_type": "slide"
    }
   },
   "source": [
    "Okay, so we can easily look one iteration forward and backwards.  But what about the ancestors of segment 18?  What was the ancestor doing in iteration 1?\n",
    "\n",
    "Let's use the built in trace function.  It's fairly simple; just run w.trace(), give it a seg_id, and store the result in an object.  That is,\n",
    "\n",
    "    s = w.trace(18)\n",
    "    \n",
    "w.trace knows what the current iteration is, so there's no need to specify.  It returns an object similar to `w.current[18]`, except that it also contains *all* historical information."
   ]
  },
  {
   "cell_type": "code",
   "execution_count": 42,
   "metadata": {
    "nbpresent": {
     "id": "bede4010-2d08-4938-8262-be3ff7f704f5"
    },
    "slideshow": {
     "slide_type": "subslide"
    }
   },
   "outputs": [
    {
     "data": {
      "text/plain": [
       "['auxdata', 'bins', 'iteration', 'pcoord', 'seg_id', 'state_labels', 'states', 'weights']"
      ]
     },
     "execution_count": 42,
     "metadata": {},
     "output_type": "execute_result"
    }
   ],
   "source": [
    "s = w.trace(18)\n",
    "s"
   ]
  },
  {
   "cell_type": "markdown",
   "metadata": {
    "nbpresent": {
     "id": "228494db-5226-48b9-bb30-2dd5fa336ae9"
    },
    "slideshow": {
     "slide_type": "subslide"
    }
   },
   "source": [
    "It's a fast function; faster than tracing it by hand.\n",
    "\n",
    "Auxdata, bins, pcoord, and states are all going to be very large; their shape should be the product of the number of timepoints per iteration and the trajectory length.  As we're at iteration 90, and have 11 timepoints per tau, we should have 990 values in each dataset!\n",
    "\n",
    "seg_id, iteration, and weights are only updated every iteration, so their size is equal to the trajectory length.\n",
    "\n",
    "Rather than visually inspecting each value, let's just plot it!  Run\n",
    "\n",
    "    clear\n",
    "    s.weights.plot()\n",
    "    clear\n",
    "    s.pcoord.plot()\n",
    "    clear\n",
    "    \n",
    "and you'll see the log10 of the weights, and the pcoord plotted out, in the terminal.  It's enough to see where thing are going!"
   ]
  },
  {
   "cell_type": "markdown",
   "metadata": {
    "nbpresent": {
     "id": "28808452-7bc5-4ffc-8713-1df2ed777545"
    },
    "slideshow": {
     "slide_type": "slide"
    }
   },
   "source": [
    "**<center>Can I plot the evolution of a rate constant?</center>**\n",
    "\n",
    "Certainly.  w.current contains information about your rate constant, at this current iteration, according to whatever averaging scheme you've selected.  Run the following to see your rate constants and upper/lower CIs.  Remember that tab completion is your friend!\n",
    "\n",
    "    w.current.direct.rate_evolution\n",
    "    \n",
    "or, alternatively,\n",
    "\n",
    "    w.current.rate_evolution.direct\n",
    "    \n",
    "w_ipa isn't too picky about the order."
   ]
  },
  {
   "cell_type": "code",
   "execution_count": 46,
   "metadata": {
    "nbpresent": {
     "id": "ce4a3e5b-a1e2-4423-a89e-d102d91d9b27"
    },
    "slideshow": {
     "slide_type": "subslide"
    }
   },
   "outputs": [
    {
     "data": {
      "text/plain": [
       "rate_evolution data:\n",
       "unbound -> bound  : mean=0.000000000000000e+00 CI=(0.000000000000000e+00, 0.000000000000000e+00) * tau^-1\n",
       "bound   -> unbound: mean=6.226638166338148e-05 CI=(4.296496971020543e-05, 8.367173429386358e-05) * tau^-1\n",
       "To access data, index via the following names:\n",
       "['ci_lbound', 'ci_ubound', 'corr_len', 'error', 'expected', 'iter_start', 'iter_stop', 'name', 'plot', 'raw', 'sterr']"
      ]
     },
     "execution_count": 46,
     "metadata": {},
     "output_type": "execute_result"
    }
   ],
   "source": [
    "w.current.direct.rate_evolution"
   ]
  },
  {
   "cell_type": "markdown",
   "metadata": {
    "nbpresent": {
     "id": "e52b9877-9a6f-441e-a8bd-ec850af6d4f7"
    },
    "slideshow": {
     "slide_type": "subslide"
    }
   },
   "source": [
    "We have an estimate for our bound to unbound rate constant!  That's great.  To plot it, simply call the plot function on the rate_evolution object, and send in the arguments (1,0), as otherwise it defaults to plotting the 0 to 1 rate constant\n",
    "\n",
    "    clear\n",
    "    w.current.direct.rate_evolution.plot(1,0)\n",
    "    \n",
    "w_ipa tries to be clever and show the upper and lower CI on the plot, as well."
   ]
  },
  {
   "cell_type": "markdown",
   "metadata": {
    "nbpresent": {
     "id": "c26dcb1d-1950-43b9-b559-a918814e8705"
    },
    "slideshow": {
     "slide_type": "slide"
    }
   },
   "source": [
    "**<center>What if I want to compare the rate constant estimates from two analysis schemes?</center>**\n",
    "\n",
    "This is also easy!  You can access the current/past/future objects from different analysis schemes directly.  We have two schemes defined in our west.cfg file: CANONICAL and WORKSHOP.  You can access them from the w.scheme object:\n",
    "\n",
    "    w.scheme.CANONICAL.current\n",
    "    w.scheme.WORKSHOP.current\n",
    "    \n",
    "You can simply `w.scheme`, and, without hitting enter, hit tab to show a list of the available scheme names.\n",
    "\n",
    "To print out the estimates for the rate constants:\n",
    "\n",
    "    w.scheme.CANONICAL.current.direct.rate_evolution\n",
    "    w.scheme.WORKSHOP.current.direct.rate_evolution"
   ]
  },
  {
   "cell_type": "code",
   "execution_count": 47,
   "metadata": {
    "nbpresent": {
     "id": "f2e561f3-7c78-435e-b991-c850bf215d8d"
    },
    "slideshow": {
     "slide_type": "subslide"
    }
   },
   "outputs": [
    {
     "data": {
      "text/plain": [
       "rate_evolution data:\n",
       "unbound -> bound  : mean=0.000000000000000e+00 CI=(0.000000000000000e+00, 0.000000000000000e+00) * tau^-1\n",
       "bound   -> unbound: mean=6.226638166338148e-05 CI=(4.296496971020543e-05, 8.367173429386358e-05) * tau^-1\n",
       "To access data, index via the following names:\n",
       "['ci_lbound', 'ci_ubound', 'corr_len', 'error', 'expected', 'iter_start', 'iter_stop', 'name', 'plot', 'raw', 'sterr']"
      ]
     },
     "execution_count": 47,
     "metadata": {},
     "output_type": "execute_result"
    }
   ],
   "source": [
    "w.scheme.CANONICAL.current.direct.rate_evolution"
   ]
  },
  {
   "cell_type": "code",
   "execution_count": 48,
   "metadata": {
    "nbpresent": {
     "id": "12f95967-5b6b-4dcf-8101-0542846e7f86"
    },
    "slideshow": {
     "slide_type": "subslide"
    }
   },
   "outputs": [
    {
     "data": {
      "text/plain": [
       "rate_evolution data:\n",
       "unbound -> bound  : mean=0.000000000000000e+00 CI=(0.000000000000000e+00, 0.000000000000000e+00) * tau^-1\n",
       "bound   -> unbound: mean=1.258646169434893e-04 CI=(1.258646169434893e-04, 1.258646169434893e-04) * tau^-1\n",
       "To access data, index via the following names:\n",
       "['ci_lbound', 'ci_ubound', 'corr_len', 'error', 'expected', 'iter_start', 'iter_stop', 'name', 'plot', 'raw', 'sterr']"
      ]
     },
     "execution_count": 48,
     "metadata": {},
     "output_type": "execute_result"
    }
   ],
   "source": [
    "w.scheme.WORKSHOP.current.direct.rate_evolution"
   ]
  },
  {
   "cell_type": "markdown",
   "metadata": {
    "nbpresent": {
     "id": "bb7261dd-0bf0-47a4-baaf-d39c4d1e43af"
    },
    "slideshow": {
     "slide_type": "slide"
    }
   },
   "source": [
    "The state definitions used are the same, but our simulation is short and the error analysis stochastic; our simulation definitely needs more time!\n",
    "\n",
    "There's a lot more to explore in w_ipa; you can also use it inside of a jupyter notebook if your west.h5 file is on your local machine.\n",
    "\n",
    "While we can't do it today, try it on a mac (no X required) or a linux machine with Xorg and WESTPA installed.  Clone this repository again, and:\n",
    "\n",
    "cd westpa2018analysis\n",
    "w_jupyter\n",
    "\n",
    "Then click \"tutorial.ipynb\" to get started!"
   ]
  },
  {
   "cell_type": "code",
   "execution_count": null,
   "metadata": {
    "nbpresent": {
     "id": "f988b298-d392-4779-9495-d20473d5c73c"
    }
   },
   "outputs": [],
   "source": []
  }
 ],
 "metadata": {
  "anaconda-cloud": {},
  "celltoolbar": "Slideshow",
  "kernelspec": {
   "display_name": "Python 2",
   "language": "python",
   "name": "python2"
  },
  "language_info": {
   "codemirror_mode": {
    "name": "ipython",
    "version": 2
   },
   "file_extension": ".py",
   "mimetype": "text/x-python",
   "name": "python",
   "nbconvert_exporter": "python",
   "pygments_lexer": "ipython2",
   "version": "2.7.15"
  },
  "nbpresent": {
   "slides": {
    "02a95652-8863-40a6-9007-6618bb3551dc": {
     "id": "02a95652-8863-40a6-9007-6618bb3551dc",
     "prev": "d0896905-8730-452c-882b-ec7ab8a9fbe8",
     "regions": {
      "a87bcbe2-1e9e-46ec-8fd4-2904baee6f35": {
       "attrs": {
        "height": 0.8,
        "width": 0.8,
        "x": 0.1,
        "y": 0.1
       },
       "content": {
        "cell": "234a3043-0d09-4257-8d0a-eeeb36a4da28",
        "part": "whole"
       },
       "id": "a87bcbe2-1e9e-46ec-8fd4-2904baee6f35"
      }
     }
    },
    "03a52dcc-f1d7-4c40-b9de-57893a33bb54": {
     "id": "03a52dcc-f1d7-4c40-b9de-57893a33bb54",
     "prev": "e9bb9da6-1ad0-45a0-943f-2ec987574e55",
     "regions": {
      "80ffbe2e-b86f-4fda-80cb-d7284bdbe864": {
       "attrs": {
        "height": 0.8,
        "width": 0.8,
        "x": 0.1,
        "y": 0.1
       },
       "content": {
        "cell": "835c1769-dbe6-4a01-a327-f0c983506dbb",
        "part": "whole"
       },
       "id": "80ffbe2e-b86f-4fda-80cb-d7284bdbe864"
      }
     }
    },
    "0488cea8-833a-4a06-9143-7078a586bb80": {
     "id": "0488cea8-833a-4a06-9143-7078a586bb80",
     "prev": "0521022d-d72d-457d-8942-a327610cfcd8",
     "regions": {
      "4b3a9e24-a5be-4d3d-adb0-1847d059be09": {
       "attrs": {
        "height": 0.8,
        "width": 0.8,
        "x": 0.1,
        "y": 0.1
       },
       "content": {
        "cell": "1eb750e7-c21c-45b5-b20c-7cc4ab045604",
        "part": "whole"
       },
       "id": "4b3a9e24-a5be-4d3d-adb0-1847d059be09"
      }
     }
    },
    "04e547c2-0ed2-4fc8-b44d-1f49c81d9379": {
     "id": "04e547c2-0ed2-4fc8-b44d-1f49c81d9379",
     "prev": "bb1baefe-a7c5-4001-be54-eeed35493433",
     "regions": {
      "e3547698-da88-4f35-91ea-eae2da4343e6": {
       "attrs": {
        "height": 0.8,
        "width": 0.8,
        "x": 0.1,
        "y": 0.1
       },
       "content": {
        "cell": "b9307552-d89e-4dcd-a40d-3cbee0174ae7",
        "part": "whole"
       },
       "id": "e3547698-da88-4f35-91ea-eae2da4343e6"
      }
     }
    },
    "0521022d-d72d-457d-8942-a327610cfcd8": {
     "id": "0521022d-d72d-457d-8942-a327610cfcd8",
     "prev": "564d777c-4ca5-426a-8f07-ad97c58887d8",
     "regions": {
      "cf6df6a2-d8f7-4931-bfec-c550f9e3b594": {
       "attrs": {
        "height": 0.8,
        "width": 0.8,
        "x": 0.1,
        "y": 0.1
       },
       "content": {
        "cell": "81c91429-eb3f-451b-aea2-3b7f6bed9d1e",
        "part": "whole"
       },
       "id": "cf6df6a2-d8f7-4931-bfec-c550f9e3b594"
      }
     }
    },
    "0d675b19-6214-4fa6-ad44-fa0760d78b26": {
     "id": "0d675b19-6214-4fa6-ad44-fa0760d78b26",
     "prev": "04e547c2-0ed2-4fc8-b44d-1f49c81d9379",
     "regions": {
      "fb2c9dac-ffae-4c04-9ee9-afbf7703015f": {
       "attrs": {
        "height": 0.8,
        "width": 0.8,
        "x": 0.1,
        "y": 0.1
       },
       "content": {
        "cell": "e22d03cb-5c95-4fbd-8807-e320d93dde08",
        "part": "whole"
       },
       "id": "fb2c9dac-ffae-4c04-9ee9-afbf7703015f"
      }
     }
    },
    "13063e7d-9bac-4839-821f-082033064a30": {
     "id": "13063e7d-9bac-4839-821f-082033064a30",
     "prev": "55255055-b43c-4072-b4a2-71752092c34e",
     "regions": {
      "2c31e99f-6d0e-49cb-a16c-4c658a0d4533": {
       "attrs": {
        "height": 0.8,
        "width": 0.8,
        "x": 0.1,
        "y": 0.1
       },
       "content": {
        "cell": "227cad24-067b-47b7-b09e-77dda4265cf5",
        "part": "whole"
       },
       "id": "2c31e99f-6d0e-49cb-a16c-4c658a0d4533"
      }
     }
    },
    "17dbec72-3119-43d1-9f0e-911dd049beb0": {
     "id": "17dbec72-3119-43d1-9f0e-911dd049beb0",
     "prev": "13063e7d-9bac-4839-821f-082033064a30",
     "regions": {
      "b4dfe263-3590-4679-b2e8-fb117704f48d": {
       "attrs": {
        "height": 0.8,
        "width": 0.8,
        "x": 0.1,
        "y": 0.1
       },
       "content": {
        "cell": "af9a6817-458f-458b-ba82-05081f44dec4",
        "part": "whole"
       },
       "id": "b4dfe263-3590-4679-b2e8-fb117704f48d"
      }
     }
    },
    "1970a88d-ea07-4966-b95a-57a2cbe91143": {
     "id": "1970a88d-ea07-4966-b95a-57a2cbe91143",
     "prev": "544ecf6f-697b-4ffc-81f9-edad17dd725e",
     "regions": {
      "846d6f91-b1c8-4c2a-bfbb-5958d25589cc": {
       "attrs": {
        "height": 0.8,
        "width": 0.8,
        "x": 0.1,
        "y": 0.1
       },
       "content": {
        "cell": "ba01a41e-6ffb-48c3-af9c-183cbee30c14",
        "part": "whole"
       },
       "id": "846d6f91-b1c8-4c2a-bfbb-5958d25589cc"
      }
     }
    },
    "212561a1-ea7d-4767-899f-b33abcacd5eb": {
     "id": "212561a1-ea7d-4767-899f-b33abcacd5eb",
     "prev": "3ceaca9d-ed26-47b6-bec6-0062cd9cfc84",
     "regions": {
      "3e64a160-da03-4620-90c2-771726b8542c": {
       "attrs": {
        "height": 0.8,
        "width": 0.8,
        "x": 0.1,
        "y": 0.1
       },
       "content": {
        "cell": "33f759f0-534c-471f-a4f9-ffaafc0cf661",
        "part": "whole"
       },
       "id": "3e64a160-da03-4620-90c2-771726b8542c"
      }
     }
    },
    "22c57fdd-daba-4ba5-8e28-77b1c2700e19": {
     "id": "22c57fdd-daba-4ba5-8e28-77b1c2700e19",
     "prev": "6e27bb04-4c74-4a00-ac45-993f5719b7bb",
     "regions": {
      "03b4e819-6cb8-4128-a61a-8268a1db4425": {
       "attrs": {
        "height": 0.8,
        "width": 0.8,
        "x": 0.1,
        "y": 0.1
       },
       "content": {
        "cell": "c5b328ec-181e-4cbb-b08b-307604b78462",
        "part": "whole"
       },
       "id": "03b4e819-6cb8-4128-a61a-8268a1db4425"
      }
     }
    },
    "28f2820d-6cda-4e19-a3dd-cf179a85f968": {
     "id": "28f2820d-6cda-4e19-a3dd-cf179a85f968",
     "prev": "e49c8c5c-7bd7-4069-afae-659cfe020690",
     "regions": {
      "f53ea865-bbe5-488f-ac24-c2deb6cdfa04": {
       "attrs": {
        "height": 0.8,
        "width": 0.8,
        "x": 0.1,
        "y": 0.1
       },
       "content": {
        "cell": "12f95967-5b6b-4dcf-8101-0542846e7f86",
        "part": "whole"
       },
       "id": "f53ea865-bbe5-488f-ac24-c2deb6cdfa04"
      }
     }
    },
    "31804d72-9dee-4558-841c-c411c4c4b928": {
     "id": "31804d72-9dee-4558-841c-c411c4c4b928",
     "prev": "0488cea8-833a-4a06-9143-7078a586bb80",
     "regions": {
      "84509ec1-8e58-425b-b535-98dcc348d32b": {
       "attrs": {
        "height": 0.8,
        "width": 0.8,
        "x": 0.1,
        "y": 0.1
       },
       "content": {
        "cell": "2e102eb0-aba9-49f1-8b3f-bbc3aaba5b68",
        "part": "whole"
       },
       "id": "84509ec1-8e58-425b-b535-98dcc348d32b"
      }
     }
    },
    "38216cda-9acb-4b11-a448-fb55a6655a69": {
     "id": "38216cda-9acb-4b11-a448-fb55a6655a69",
     "prev": "914ee4c2-84d5-4e1e-a472-940d62d5337a",
     "regions": {
      "cccb7616-19d9-41b3-8764-774142de9c4d": {
       "attrs": {
        "height": 0.8,
        "width": 0.8,
        "x": 0.1,
        "y": 0.1
       },
       "content": {
        "cell": "44b84874-b00b-4840-9adc-10ba9ca62f29",
        "part": "whole"
       },
       "id": "cccb7616-19d9-41b3-8764-774142de9c4d"
      }
     }
    },
    "3ceaca9d-ed26-47b6-bec6-0062cd9cfc84": {
     "id": "3ceaca9d-ed26-47b6-bec6-0062cd9cfc84",
     "prev": "faefe336-3d71-4036-b5a6-ade185c85213",
     "regions": {
      "d0cbb1b1-15fb-48fb-8b36-d1d274bf1c42": {
       "attrs": {
        "height": 0.8,
        "width": 0.8,
        "x": 0.1,
        "y": 0.1
       },
       "content": {
        "cell": "ca3e3b42-d84d-45e5-a7fb-1225ef2a18b0",
        "part": "whole"
       },
       "id": "d0cbb1b1-15fb-48fb-8b36-d1d274bf1c42"
      }
     }
    },
    "42776cb8-ae9b-4658-8825-291f82dfd8cc": {
     "id": "42776cb8-ae9b-4658-8825-291f82dfd8cc",
     "prev": "e692ad0e-6a59-4248-b92b-3f8cd52d8e4c",
     "regions": {
      "a4db0fc1-a63f-451e-b580-e8f6cc930607": {
       "attrs": {
        "height": 0.8,
        "width": 0.8,
        "x": 0.1,
        "y": 0.1
       },
       "content": {
        "cell": "ce8fcf42-b796-4c29-8599-7f08cbed7112",
        "part": "whole"
       },
       "id": "a4db0fc1-a63f-451e-b580-e8f6cc930607"
      }
     }
    },
    "482cdcc7-2fde-43d0-a737-47cc6eb63534": {
     "id": "482cdcc7-2fde-43d0-a737-47cc6eb63534",
     "prev": "38216cda-9acb-4b11-a448-fb55a6655a69",
     "regions": {
      "9dde9a13-1ea2-4946-930f-dad9fddbaabf": {
       "attrs": {
        "height": 0.8,
        "width": 0.8,
        "x": 0.1,
        "y": 0.1
       },
       "content": {
        "cell": "d8ce95fc-26fa-4a0d-b28a-bb377a18f3be",
        "part": "whole"
       },
       "id": "9dde9a13-1ea2-4946-930f-dad9fddbaabf"
      }
     }
    },
    "4d9320a7-d150-4257-a281-c64da63fbe48": {
     "id": "4d9320a7-d150-4257-a281-c64da63fbe48",
     "prev": "22c57fdd-daba-4ba5-8e28-77b1c2700e19",
     "regions": {
      "825c5031-4dc1-4de0-aa58-a5f048c92613": {
       "attrs": {
        "height": 0.8,
        "width": 0.8,
        "x": 0.1,
        "y": 0.1
       },
       "content": {
        "cell": "7793b7fa-ca7d-41e4-ab1d-9bfcbac4b479",
        "part": "whole"
       },
       "id": "825c5031-4dc1-4de0-aa58-a5f048c92613"
      }
     }
    },
    "52330bd5-97cf-4743-b212-12064932e26e": {
     "id": "52330bd5-97cf-4743-b212-12064932e26e",
     "prev": "e7dc6e62-4cc1-449e-b9be-10abe15fcc7d",
     "regions": {
      "9b443f69-c3fa-456f-bbdb-b73db94a0a14": {
       "attrs": {
        "height": 0.8,
        "width": 0.8,
        "x": 0.1,
        "y": 0.1
       },
       "content": {
        "cell": "e52b9877-9a6f-441e-a8bd-ec850af6d4f7",
        "part": "whole"
       },
       "id": "9b443f69-c3fa-456f-bbdb-b73db94a0a14"
      }
     }
    },
    "52c7e440-6cab-4bc4-9dc4-db72d8331f18": {
     "id": "52c7e440-6cab-4bc4-9dc4-db72d8331f18",
     "prev": "a68e82f8-bbd8-472a-b47f-41a644b72c60",
     "regions": {
      "0ead9f58-2943-4240-836b-bbf240754f6a": {
       "attrs": {
        "height": 0.8,
        "width": 0.8,
        "x": 0.1,
        "y": 0.1
       },
       "content": {
        "cell": "8be4c37a-7b7d-47b1-81fc-45521c3b2850",
        "part": "whole"
       },
       "id": "0ead9f58-2943-4240-836b-bbf240754f6a"
      }
     }
    },
    "544ecf6f-697b-4ffc-81f9-edad17dd725e": {
     "id": "544ecf6f-697b-4ffc-81f9-edad17dd725e",
     "prev": null,
     "regions": {
      "2c289acc-501a-4d7b-b7ed-bd19c3a3af0b": {
       "attrs": {
        "height": 0.8,
        "width": 0.8,
        "x": 0.1,
        "y": 0.1
       },
       "content": {
        "cell": "687c88ec-55e5-469d-af6c-1be4e60dfd06",
        "part": "whole"
       },
       "id": "2c289acc-501a-4d7b-b7ed-bd19c3a3af0b"
      }
     }
    },
    "55255055-b43c-4072-b4a2-71752092c34e": {
     "id": "55255055-b43c-4072-b4a2-71752092c34e",
     "prev": "860c9b42-5402-4c21-8a71-33461fc0c666",
     "regions": {
      "44dd4bac-a456-4b05-986a-48468b44e78e": {
       "attrs": {
        "height": 0.8,
        "width": 0.8,
        "x": 0.1,
        "y": 0.1
       },
       "content": {
        "cell": "5af58107-e748-4371-8db4-da5e038928dc",
        "part": "whole"
       },
       "id": "44dd4bac-a456-4b05-986a-48468b44e78e"
      }
     }
    },
    "564d777c-4ca5-426a-8f07-ad97c58887d8": {
     "id": "564d777c-4ca5-426a-8f07-ad97c58887d8",
     "prev": "9d5c042a-2372-41c0-a99c-9f063d99424e",
     "regions": {
      "6a4454c0-b2de-4e99-a3c6-8330e9e04dac": {
       "attrs": {
        "height": 0.8,
        "width": 0.8,
        "x": 0.1,
        "y": 0.1
       },
       "content": {
        "cell": "014fbee3-3191-4bbc-91ef-8481828f785e",
        "part": "whole"
       },
       "id": "6a4454c0-b2de-4e99-a3c6-8330e9e04dac"
      }
     }
    },
    "6e27bb04-4c74-4a00-ac45-993f5719b7bb": {
     "id": "6e27bb04-4c74-4a00-ac45-993f5719b7bb",
     "prev": "0d675b19-6214-4fa6-ad44-fa0760d78b26",
     "regions": {
      "0e03527b-817a-4cca-9818-a392140ff5a0": {
       "attrs": {
        "height": 0.8,
        "width": 0.8,
        "x": 0.1,
        "y": 0.1
       },
       "content": {
        "cell": "4270d5ae-f186-4fec-ac04-794ebef263a6",
        "part": "whole"
       },
       "id": "0e03527b-817a-4cca-9818-a392140ff5a0"
      }
     }
    },
    "70c70d76-7b62-4995-a48e-c14d717602b7": {
     "id": "70c70d76-7b62-4995-a48e-c14d717602b7",
     "prev": "28f2820d-6cda-4e19-a3dd-cf179a85f968",
     "regions": {
      "b06bfb5a-c5f8-411c-a693-9bfbf016d4b1": {
       "attrs": {
        "height": 0.8,
        "width": 0.8,
        "x": 0.1,
        "y": 0.1
       },
       "content": {
        "cell": "bb7261dd-0bf0-47a4-baaf-d39c4d1e43af",
        "part": "whole"
       },
       "id": "b06bfb5a-c5f8-411c-a693-9bfbf016d4b1"
      },
      "b5b722dc-03d2-4af6-a03c-c076dd42b929": {
       "attrs": {
        "height": 0.4,
        "width": 0.8,
        "x": 0.1,
        "y": 0.5
       },
       "content": {
        "cell": "f988b298-d392-4779-9495-d20473d5c73c",
        "part": "whole"
       },
       "id": "b5b722dc-03d2-4af6-a03c-c076dd42b929"
      }
     }
    },
    "7afb7dd6-b621-4698-9d77-eac2ac32e6a0": {
     "id": "7afb7dd6-b621-4698-9d77-eac2ac32e6a0",
     "prev": "42776cb8-ae9b-4658-8825-291f82dfd8cc",
     "regions": {
      "6f1cee2b-74ab-4533-86ee-371080b29124": {
       "attrs": {
        "height": 0.8,
        "width": 0.8,
        "x": 0.1,
        "y": 0.1
       },
       "content": {
        "cell": "5987ea88-8161-437a-a529-bcf6dba24a79",
        "part": "whole"
       },
       "id": "6f1cee2b-74ab-4533-86ee-371080b29124"
      }
     }
    },
    "860c9b42-5402-4c21-8a71-33461fc0c666": {
     "id": "860c9b42-5402-4c21-8a71-33461fc0c666",
     "prev": "7afb7dd6-b621-4698-9d77-eac2ac32e6a0",
     "regions": {
      "21083c23-f57a-4722-9563-6a961d655ab3": {
       "attrs": {
        "height": 0.8,
        "width": 0.8,
        "x": 0.1,
        "y": 0.1
       },
       "content": {
        "cell": "d9b101b3-2d0d-45fc-ad7d-e341f4ebd6aa",
        "part": "whole"
       },
       "id": "21083c23-f57a-4722-9563-6a961d655ab3"
      }
     }
    },
    "91473841-67f2-43c4-9913-576b264ca266": {
     "id": "91473841-67f2-43c4-9913-576b264ca266",
     "prev": "f4c70d0e-c4ef-4f90-ad19-ef18f499acf9",
     "regions": {
      "aa013864-a2bf-463a-94cf-0dfc5767edd7": {
       "attrs": {
        "height": 0.8,
        "width": 0.8,
        "x": 0.1,
        "y": 0.1
       },
       "content": {
        "cell": "28808452-7bc5-4ffc-8713-1df2ed777545",
        "part": "whole"
       },
       "id": "aa013864-a2bf-463a-94cf-0dfc5767edd7"
      }
     }
    },
    "914ee4c2-84d5-4e1e-a472-940d62d5337a": {
     "id": "914ee4c2-84d5-4e1e-a472-940d62d5337a",
     "prev": "52c7e440-6cab-4bc4-9dc4-db72d8331f18",
     "regions": {
      "de0d4260-a905-4f2d-99ed-daaae5e0fcc5": {
       "attrs": {
        "height": 0.8,
        "width": 0.8,
        "x": 0.1,
        "y": 0.1
       },
       "content": {
        "cell": "e359db69-5c42-48d8-8465-8f4484cfe46b",
        "part": "whole"
       },
       "id": "de0d4260-a905-4f2d-99ed-daaae5e0fcc5"
      }
     }
    },
    "9d5c042a-2372-41c0-a99c-9f063d99424e": {
     "id": "9d5c042a-2372-41c0-a99c-9f063d99424e",
     "prev": "482cdcc7-2fde-43d0-a737-47cc6eb63534",
     "regions": {
      "57a7e569-6d41-4f5a-9977-a4c6b0410e8b": {
       "attrs": {
        "height": 0.8,
        "width": 0.8,
        "x": 0.1,
        "y": 0.1
       },
       "content": {
        "cell": "d4d85536-1120-476e-a997-dba4cc579114",
        "part": "whole"
       },
       "id": "57a7e569-6d41-4f5a-9977-a4c6b0410e8b"
      }
     }
    },
    "a68e82f8-bbd8-472a-b47f-41a644b72c60": {
     "id": "a68e82f8-bbd8-472a-b47f-41a644b72c60",
     "prev": "f4bb5818-c257-40c3-a4f8-811b764ed440",
     "regions": {
      "f7596bbd-d3cc-47e2-ba4c-27dfdc1e14d8": {
       "attrs": {
        "height": 0.8,
        "width": 0.8,
        "x": 0.1,
        "y": 0.1
       },
       "content": {
        "cell": "fe7595c7-0f68-4ba2-bf2c-ac25f58a16c2",
        "part": "whole"
       },
       "id": "f7596bbd-d3cc-47e2-ba4c-27dfdc1e14d8"
      }
     }
    },
    "b702a779-9d4b-4ea8-ad9c-4a2e20d345c1": {
     "id": "b702a779-9d4b-4ea8-ad9c-4a2e20d345c1",
     "prev": "02a95652-8863-40a6-9007-6618bb3551dc",
     "regions": {
      "807167e8-0ab1-40f7-9fe1-3754b067e574": {
       "attrs": {
        "height": 0.8,
        "width": 0.8,
        "x": 0.1,
        "y": 0.1
       },
       "content": {
        "cell": "bede4010-2d08-4938-8262-be3ff7f704f5",
        "part": "whole"
       },
       "id": "807167e8-0ab1-40f7-9fe1-3754b067e574"
      }
     }
    },
    "bb1baefe-a7c5-4001-be54-eeed35493433": {
     "id": "bb1baefe-a7c5-4001-be54-eeed35493433",
     "prev": "1970a88d-ea07-4966-b95a-57a2cbe91143",
     "regions": {
      "329a682a-c752-4b0e-bf89-7e2c0f29f41c": {
       "attrs": {
        "height": 0.8,
        "width": 0.8,
        "x": 0.1,
        "y": 0.1
       },
       "content": {
        "cell": "11cb14cc-c15c-4e16-824f-579e314ba175",
        "part": "whole"
       },
       "id": "329a682a-c752-4b0e-bf89-7e2c0f29f41c"
      }
     }
    },
    "bf153f85-54e1-44d8-beb5-0377c574da79": {
     "id": "bf153f85-54e1-44d8-beb5-0377c574da79",
     "prev": "52330bd5-97cf-4743-b212-12064932e26e",
     "regions": {
      "599a8352-fb02-4b5d-a2d7-aa5777196173": {
       "attrs": {
        "height": 0.8,
        "width": 0.8,
        "x": 0.1,
        "y": 0.1
       },
       "content": {
        "cell": "c26dcb1d-1950-43b9-b559-a918814e8705",
        "part": "whole"
       },
       "id": "599a8352-fb02-4b5d-a2d7-aa5777196173"
      }
     }
    },
    "d0896905-8730-452c-882b-ec7ab8a9fbe8": {
     "id": "d0896905-8730-452c-882b-ec7ab8a9fbe8",
     "prev": "17dbec72-3119-43d1-9f0e-911dd049beb0",
     "regions": {
      "f99339b7-96b2-48ae-aa37-d762824a719b": {
       "attrs": {
        "height": 0.8,
        "width": 0.8,
        "x": 0.1,
        "y": 0.1
       },
       "content": {
        "cell": "6463e59b-9a21-4423-bfc4-b0f7cb1c86ad",
        "part": "whole"
       },
       "id": "f99339b7-96b2-48ae-aa37-d762824a719b"
      }
     }
    },
    "e49c8c5c-7bd7-4069-afae-659cfe020690": {
     "id": "e49c8c5c-7bd7-4069-afae-659cfe020690",
     "prev": "bf153f85-54e1-44d8-beb5-0377c574da79",
     "regions": {
      "667e658d-d65e-440c-94b3-ed7639866df6": {
       "attrs": {
        "height": 0.8,
        "width": 0.8,
        "x": 0.1,
        "y": 0.1
       },
       "content": {
        "cell": "f2e561f3-7c78-435e-b991-c850bf215d8d",
        "part": "whole"
       },
       "id": "667e658d-d65e-440c-94b3-ed7639866df6"
      }
     }
    },
    "e692ad0e-6a59-4248-b92b-3f8cd52d8e4c": {
     "id": "e692ad0e-6a59-4248-b92b-3f8cd52d8e4c",
     "prev": "31804d72-9dee-4558-841c-c411c4c4b928",
     "regions": {
      "ece6063f-7740-4058-8d30-b6a76833b796": {
       "attrs": {
        "height": 0.8,
        "width": 0.8,
        "x": 0.1,
        "y": 0.1
       },
       "content": {
        "cell": "e1a1e148-4f8c-4d46-b54b-b7f1d31657de",
        "part": "whole"
       },
       "id": "ece6063f-7740-4058-8d30-b6a76833b796"
      }
     }
    },
    "e7dc6e62-4cc1-449e-b9be-10abe15fcc7d": {
     "id": "e7dc6e62-4cc1-449e-b9be-10abe15fcc7d",
     "prev": "91473841-67f2-43c4-9913-576b264ca266",
     "regions": {
      "07208336-e7c4-4fb2-85e1-80c6021e9c92": {
       "attrs": {
        "height": 0.8,
        "width": 0.8,
        "x": 0.1,
        "y": 0.1
       },
       "content": {
        "cell": "ce4a3e5b-a1e2-4423-a89e-d102d91d9b27",
        "part": "whole"
       },
       "id": "07208336-e7c4-4fb2-85e1-80c6021e9c92"
      }
     }
    },
    "e9bb9da6-1ad0-45a0-943f-2ec987574e55": {
     "id": "e9bb9da6-1ad0-45a0-943f-2ec987574e55",
     "prev": "4d9320a7-d150-4257-a281-c64da63fbe48",
     "regions": {
      "b38f518b-91e8-4b41-af80-84cdac512308": {
       "attrs": {
        "height": 0.8,
        "width": 0.8,
        "x": 0.1,
        "y": 0.1
       },
       "content": {
        "cell": "3dddc220-b688-4e1d-8bd9-857530e738f2",
        "part": "whole"
       },
       "id": "b38f518b-91e8-4b41-af80-84cdac512308"
      }
     }
    },
    "f4bb5818-c257-40c3-a4f8-811b764ed440": {
     "id": "f4bb5818-c257-40c3-a4f8-811b764ed440",
     "prev": "212561a1-ea7d-4767-899f-b33abcacd5eb",
     "regions": {
      "52d5ed0f-4cee-4568-9eb6-08dd7a39fc90": {
       "attrs": {
        "height": 0.8,
        "width": 0.8,
        "x": 0.1,
        "y": 0.1
       },
       "content": {
        "cell": "60bd46fe-5f81-4cb5-b511-086edb6cdcc7",
        "part": "whole"
       },
       "id": "52d5ed0f-4cee-4568-9eb6-08dd7a39fc90"
      }
     }
    },
    "f4c70d0e-c4ef-4f90-ad19-ef18f499acf9": {
     "id": "f4c70d0e-c4ef-4f90-ad19-ef18f499acf9",
     "prev": "b702a779-9d4b-4ea8-ad9c-4a2e20d345c1",
     "regions": {
      "8504e369-8ae9-4a3c-92da-58e5361aa5e1": {
       "attrs": {
        "height": 0.8,
        "width": 0.8,
        "x": 0.1,
        "y": 0.1
       },
       "content": {
        "cell": "228494db-5226-48b9-bb30-2dd5fa336ae9",
        "part": "whole"
       },
       "id": "8504e369-8ae9-4a3c-92da-58e5361aa5e1"
      }
     }
    },
    "faefe336-3d71-4036-b5a6-ade185c85213": {
     "id": "faefe336-3d71-4036-b5a6-ade185c85213",
     "prev": "03a52dcc-f1d7-4c40-b9de-57893a33bb54",
     "regions": {
      "593968fe-5b19-4520-bd78-1307d90a7392": {
       "attrs": {
        "height": 0.8,
        "width": 0.8,
        "x": 0.1,
        "y": 0.1
       },
       "content": {
        "cell": "58222ecc-45d1-47bc-8448-7930caeb0322",
        "part": "whole"
       },
       "id": "593968fe-5b19-4520-bd78-1307d90a7392"
      }
     }
    }
   },
   "themes": {}
  }
 },
 "nbformat": 4,
 "nbformat_minor": 1
}
