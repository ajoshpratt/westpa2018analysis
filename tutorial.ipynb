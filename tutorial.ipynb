{
 "cells": [
  {
   "cell_type": "markdown",
   "metadata": {
    "collapsed": true,
    "nbpresent": {
     "id": "687c88ec-55e5-469d-af6c-1be4e60dfd06"
    },
    "slideshow": {
     "slide_type": "slide"
    }
   },
   "source": [
    "<vcenter><center>**w_ipa: Automated, Convenient Analysis!**</center></vcenter>\n",
    "\n",
    "<center><vcenter>by Audrey Pratt</center></vcenter>"
   ]
  },
  {
   "cell_type": "code",
   "execution_count": 1,
   "metadata": {
    "nbpresent": {
     "id": "6345b628-8f0a-4878-a856-cd480a04d3d2"
    },
    "slideshow": {
     "slide_type": "skip"
    }
   },
   "outputs": [
    {
     "name": "stdout",
     "output_type": "stream",
     "text": [
      "\n",
      "Welcome to w_ipa (WESTPA Interactive Python Analysis) v. 1.0B!\n",
      "Run w.introduction for a more thorough introduction, or w.help to see a list of options.\n",
      "Running analysis & loading files.\n",
      "\n",
      "Complete!\n",
      "Setting iteration to iter 1500.\n",
      "\n",
      "        Call as a dictionary item or a .attribute:\n",
      "\n",
      "        w.past, w.current, w.future:\n",
      "            \n",
      "            aggregate_walkers auxdata bins color_prob_evolution conditional_flux_evolution direct \n",
      "            instant_matrix iteration matrix maxweight minweight parent parents pcoord rate_evolution \n",
      "            raw reweight seg_id state_pop_evolution states successful_trajectories summary \n",
      "            target_flux_evolution total_fluxes walkers weights\n",
      "\n",
      "        Raw schemes can be accessed as follows:\n",
      "\n",
      "            w.scheme.WORKSHOP/CANONICAL\n",
      "\n",
      "            and contain mostly the same datasets associated with w.\n",
      "\n",
      "        The following give raw access to the h5 files associated with the current scheme\n",
      "\n",
      "        w.west\n",
      "        w.assign\n",
      "        w.direct\n",
      "        w.reweight\n",
      "\n",
      "        OTHER:\n",
      "\n",
      "        w.bin_labels\n",
      "        w.current\n",
      "        w.future\n",
      "        w.iteration\n",
      "        w.list_schemes\n",
      "        w.niters\n",
      "        w.past\n",
      "        w.scheme\n",
      "        w.state_labels\n",
      "        w.trace\n",
      "        w.west\n",
      "        \n",
      "\n",
      "        \n"
     ]
    },
    {
     "data": {
      "text/plain": []
     },
     "execution_count": 1,
     "metadata": {},
     "output_type": "execute_result"
    }
   ],
   "source": [
    "# This is just a setup cell that allows us to use w_ipa in a notebook environment.\n",
    "# I need to run this to ensure that everything works, but I don't want to present this slide, as\n",
    "# we'll be runneven though I was ing things on a cluster and using the terminal utilities.\n",
    "\n",
    "%matplotlib inline\n",
    "from matplotlib import pyplot as plt\n",
    "import numpy as np\n",
    "import w_ipa\n",
    "w = w_ipa.WIPI()\n",
    "# At startup, it will load or run the analysis schemes specified in the configuration file (typically west.cfg)\n",
    "w.main()\n",
    "w.interface = 'matplotlib'\n",
    "\n",
    "# Prints out help.\n",
    "w"
   ]
  },
  {
   "cell_type": "markdown",
   "metadata": {
    "nbpresent": {
     "id": "ba01a41e-6ffb-48c3-af9c-183cbee30c14"
    },
    "slideshow": {
     "slide_type": "slide"
    }
   },
   "source": [
    "<center>**w_ipa: WESTPA Interactive Python Analysis**</center>\n",
    "\n",
    "w_ipa is a WESTPA tool that automates analysis using 'analysis schemes', and allows for interactive analysis of WESTPA data.  In this tutorial, I'll cover how to use this tool to do the following:\n",
    "\n",
    "1. Calculate rate constants/fluxes\n",
    "2. Adjust & and use alternate state definitions\n",
    "3. Trace segments (weight, pcoord, auxdata)\n",
    "4. Plot all of the above in the terminal!\n",
    "\n",
    "To begin running this tutorial, in your terminal on H2P, run the following:\n",
    "\n",
    "```\n",
    "git clone https://github.com/ajoshpratt/westpa2018analysis.git\n",
    "cd westpa2018analysis\n",
    "./create_conda_environment.sh\n",
    "```\n",
    "You'll need to answer 'y' to all the prompts.  Once it has finished:\n",
    "```\n",
    "./start.sh\n",
    "cd westpa2018analysis\n",
    "source env.sh\n",
    "cd SHORT_TEST\n",
    "w_ipa -t\n",
    "```\n",
    "\n",
    "Let's begin!"
   ]
  },
  {
   "cell_type": "markdown",
   "metadata": {},
   "source": [
    "<center>**How does analysis in WESTPA normally work?**</center>\n",
    "\n",
    "To calculate rate constants, fluxes, and state populations from a WE simulation run under equilibrium conditions, you must first split your simulation into separate steady-state ensembles and solve from there.  WESTPA comes with tools that can calculate these properties using either of the following methods:\n",
    "\n",
    "1. Non-Markovian reweighting (a matrix-based calculation)\n",
    "2. Direct calculation (*i.e.*, directly tracing trajectories and directly calculating properties)\n",
    "\n",
    "These tools, known as **w_reweight** and **w_direct**, appropriately, require that your parameter space is split into bins and that some bins correspond to a known 'state'.  The tool that accomplishes this is known as **w_assign**, which bins and assigns trajectory walkers (or *segments*) into different steady-state ensembles and places the output into a file called **assign.h5**, by default.\n",
    "\n",
    "**w_reweight/w_direct** will calculate and average rate constants, fluxes, and state populations according to whatever averaging scheme you choose.  Importantly, in a typical project, **you may wish to use various state definitions and/or averaging schemes!**."
   ]
  },
  {
   "cell_type": "markdown",
   "metadata": {},
   "source": [
    "<center>**What is the typical analysis workflow?**</center>\n",
    "\n",
    "A typical analysis workflow is as follows:\n",
    "\n",
    "1. Create a bin space and define states that are appropriate for your system.\n",
    "2. Run w_assign with your bin scheme/state definitions and create **assign.h5**.\n",
    "3. Run w_reweight/w_direct with the averaging options you desire and create **reweight.h5/direct.h5**.\n",
    "\n",
    "If you choose to change bin definitions, state definitions, or your averaging scheme, you will overwrite assign.h5 and/or direct.h5/reweight.h5 when you re-run those tools.  ***It is critical that you keep track of which files pertain to which analysis scheme***.\n",
    "\n",
    "* assign.h5 contains information about the bins and state definitions used.\n",
    "* direct.h5/reweigh5.h5 contain information about what averaging scheme was used, but no information about the actual states.\n",
    "\n",
    "This introduces the possibility of error!"
   ]
  },
  {
   "cell_type": "markdown",
   "metadata": {},
   "source": [
    "<center>**What if we wish to analyze the simulation as it progresses?**</center>\n",
    "\n",
    "Running w_assign & w_direct/w_reweight while the simulation is on a cluster is straightforward.  However, visualization (such as creating graphs to analyze the evolution of the rate constant) typically requires creating PDFs, which can involve copying data to and from a local computer.\n",
    "\n",
    "In addition, analyzing the progress coordinate or auxiliary data (such as the RMSD of a protein or molecule) typically requires loading the main data file (typically **west.h5**) into python and running a custom analysis.\n",
    "\n",
    "Often, we simply want a fast answer to the question, *how is my simulation proceeding?*"
   ]
  },
  {
   "cell_type": "markdown",
   "metadata": {},
   "source": [
    "<center>**What about tracing the properties of a particular trajectory?**</center>\n",
    "\n",
    "One of the major strengths of the WE method is that it maintains complete trajectories.  Up until now, tracking properties of individual pathways over the course of the simulation has typically required writing custom python code and becoming familiar with the structure of the main data file (west.h5). "
   ]
  },
  {
   "cell_type": "markdown",
   "metadata": {},
   "source": [
    "<center>**w_ipa solves all of these problems!**</center>\n",
    "\n",
    "w_ipa allows for the creation of 'analysis schemes', stored in the west.cfg file, which involve the following:\n",
    "\n",
    "1. Bin and state definition.\n",
    "2. Averaging options\n",
    "\n",
    "w_ipa will automatically run any analysis necessary, and will update when any options are changed AND when the main data file (west.h5) has more iterations than when the analysis was previously run.  Therefore, **the results of w_ipa are always up to date with the options specified in the west.cfg file.**\n",
    "\n",
    "Once w_ipa has finished updating any analysis files necessary, it will drop you into an ipython prompt in which the object **w** gives easy access to analysis data, trajectory tracing functions, and tools that allow you to generate plots within the terminal (using ncurses). "
   ]
  },
  {
   "cell_type": "markdown",
   "metadata": {
    "slideshow": {
     "slide_type": "slide"
    }
   },
   "source": [
    "<center>**How is w_ipa configured?**</center>\n",
    "\n",
    "A WESTPA simulation primarily uses the **west.cfg** file, which can be considered the master parameter file. As such, w_ipa uses it as well, under the heading of a section titled **analysis**.\n",
    "\n",
    "The general format of the analysis section is as follows.  A more detailed example is available in the ipython notebook on the github site:\n",
    "\n",
    "```\n",
    "analysis:\n",
    "  directory: ANALYSIS # Where are we storing the analysis files?\n",
    "  OPTIONS THAT SHOULD APPLY TO EVERY SCHEME\n",
    "  analysis_schemes:\n",
    "    SCHEME_NAME:\n",
    "      OPTIONS THAT APPLY ONLY TO THIS SCHEME.  These take precedence over the general ones.\n",
    "      bins!\n",
    "      states!\n",
    "```\n",
    "\n",
    "The assign.h5, reweight.h5, and direct.h5 files are stored under ANALYSIS/SCHEME_NAME.\n",
    "\n",
    "The optional arguments that can be passed in to w_assign, w_direct, and w_reweight can be specified by creating a section with the tool name and using argument: value pairs.  We'll see an example in a minute!"
   ]
  },
  {
   "cell_type": "markdown",
   "metadata": {
    "slideshow": {
     "slide_type": "slide"
    }
   },
   "source": [
    "If you're reading this, you've downloaded the ipython notebook!  Excellent!\n",
    "\n",
    "The best example really is what's in the west.cfg already, but here you go.\n",
    "```\n",
    "analysis:\n",
    "  directory: ANALYSIS # this is the directory where the analysis files are stored\n",
    "  postanalysis: True # should we run the Non-Markovian reweighting scheme?\n",
    "  kinetics:\n",
    "    # Command line arguments that we want applied to both w_direct and w_reweight for EVERY scheme\n",
    "  w_assign:\n",
    "    # Optional command line arguments for w_assign.  This would normally apply when you wish to use\n",
    "    # an auxiliary dataset for analysis.\n",
    "  analysis_schemes:\n",
    "    SCHEME_NAME:\n",
    "      enabled: True\n",
    "      kinetics:\n",
    "        # command line arguments that we want applied to this scheme only.\n",
    "      states: \n",
    "        - label: STATE_NAME\n",
    "          coords: [[X]] # A value for the state that will map to a bin.\n",
    "      bins:\n",
    "        - type: RectilinearBinMapper # WESTPA bin mapper type.\n",
    "          boundaries: [[0.0, 1000000]] # Should encompass all possible pcoord types.\n",
    "```"
   ]
  },
  {
   "cell_type": "markdown",
   "metadata": {},
   "source": [
    "<center>**What's in OUR west.cfg?**</center>\n",
    "\n",
    "If you were to open west.cfg, you'd see the following at the bottom:\n",
    "\n",
    "```\n",
    "analysis:\n",
    "    directory: ANALYSIS\n",
    "    postanalysis: True\n",
    "    #w_assign:\n",
    "    #  construct_dataset: system.distpcoord\n",
    "    kinetics:\n",
    "      step_iter: 1\n",
    "      evolution: cumulative\n",
    "      extra: [ 'disable-correl' ]\n",
    "    analysis_schemes:\n",
    "      CANONICAL:\n",
    "        enabled: True\n",
    "        states:\n",
    "          - label: unbound\n",
    "            coords: [[24.0]]\n",
    "          - label: bound\n",
    "            coords: [[2.19]]\n",
    "        bins:\n",
    "          - type: RectilinearBinMapper\n",
    "            boundaries: [[0.0,2.2,24.00,100000]]\n",
    "```"
   ]
  },
  {
   "cell_type": "markdown",
   "metadata": {
    "slideshow": {
     "slide_type": "slide"
    }
   },
   "source": [
    "Once you've run w_ipa, you should see something that looks like the following:\n",
    "```\n",
    "Welcome to w_ipa (WESTPA Interactive Python Analysis) v. 1.0B!\n",
    "Run w.introduction for a more thorough introduction, or w.help to see a list of options.\n",
    "Running analysis & loading files.\n",
    "\n",
    "Complete!\n",
    "Setting iteration to iter 98.\n",
    "Your current scheme, system and iteration are : CANONICAL, /gscratch2/lchong/ajp105/westpa2018analysis/SHORT_TEST, 98\n",
    "\n",
    "In [1]: \n",
    "```\n",
    "\n",
    "We can now begin analyzing this simulation!  In the directory SHORT_TEST, we're only analyzing the initial portion of the simulation, as analysis tools scale with the number of iterations."
   ]
  },
  {
   "cell_type": "code",
   "execution_count": 2,
   "metadata": {
    "nbpresent": {
     "id": "58222ecc-45d1-47bc-8448-7930caeb0322"
    }
   },
   "outputs": [
    {
     "name": "stdout",
     "output_type": "stream",
     "text": [
      "The following schemes are available:\n",
      "\n",
      "0. Scheme: WORKSHOP\n",
      "1. Scheme: CANONICAL\n",
      "\n",
      "Set via name, or via the index listed.\n",
      "\n",
      "Current scheme: CANONICAL\n"
     ]
    }
   ],
   "source": [
    "# Let's list our schemes!\n",
    "\n",
    "w.list_schemes"
   ]
  },
  {
   "cell_type": "code",
   "execution_count": 3,
   "metadata": {},
   "outputs": [
    {
     "name": "stdout",
     "output_type": "stream",
     "text": [
      "CANONICAL\n",
      "WORKSHOP\n",
      "CANONICAL\n"
     ]
    }
   ],
   "source": [
    "# To change schemes, set w.scheme = 'SCHEME_NAME' or SCHEME_NUMBER\n",
    "# To print the current scheme, type w.scheme\n",
    "\n",
    "# The following will change the scheme to WORKSHOP, then back to canonical\n",
    "\n",
    "print(w.scheme)\n",
    "w.scheme = 0\n",
    "print(w.scheme)\n",
    "w.scheme = 'CANONICAL'\n",
    "print(w.scheme)"
   ]
  },
  {
   "cell_type": "markdown",
   "metadata": {
    "slideshow": {
     "slide_type": "slide"
    }
   },
   "source": [
    "<center>**How does interactive analysis in w_ipa work?**</current>\n",
    "\n",
    "w_ipa works by presenting an iteration and all its data as an object.  There are up to 3 iterations trivially available at all times, and are all centered around the idea of a 'current' iteration.  As noted in the introduction message, the current iteration is 98.\n",
    "\n",
    "You can change the active, or current, iteration by setting the w.iteration property to something else.  As our west.h5 only has 98 iterations, we can't go beyond this iteration.  Let's try setting it to iteration 90 by running the following:"
   ]
  },
  {
   "cell_type": "code",
   "execution_count": 4,
   "metadata": {
    "slideshow": {
     "slide_type": "subslide"
    }
   },
   "outputs": [
    {
     "name": "stdout",
     "output_type": "stream",
     "text": [
      "Setting iteration to iter 90.\n"
     ]
    }
   ],
   "source": [
    "w.iteration = 90"
   ]
  },
  {
   "cell_type": "markdown",
   "metadata": {
    "slideshow": {
     "slide_type": "subslide"
    }
   },
   "source": [
    "Great!  We have 3 iterations available to us: *current, past, future*\n",
    "\n",
    "What happens when we try to access one?  Let's just try the command and see."
   ]
  },
  {
   "cell_type": "code",
   "execution_count": 6,
   "metadata": {
    "slideshow": {
     "slide_type": "subslide"
    }
   },
   "outputs": [
    {
     "data": {
      "text/plain": [
       "['aggregate_walkers', 'auxdata', 'bins', 'color_prob_evolution', 'conditional_flux_evolution', 'direct', 'instant_matrix', 'iteration', 'matrix', 'maxweight', 'minweight', 'parent', 'parents', 'pcoord', 'rate_evolution', 'raw', 'reweight', 'seg_id', 'state_pop_evolution', 'states', 'successful_trajectories', 'summary', 'target_flux_evolution', 'total_fluxes', 'walkers', 'weights']"
      ]
     },
     "execution_count": 6,
     "metadata": {},
     "output_type": "execute_result"
    }
   ],
   "source": [
    "w.current"
   ]
  },
  {
   "cell_type": "markdown",
   "metadata": {
    "slideshow": {
     "slide_type": "subslide"
    }
   },
   "source": [
    "Whoa!  A python list of strings!  What do I do with it?"
   ]
  },
  {
   "cell_type": "markdown",
   "metadata": {
    "slideshow": {
     "slide_type": "slide"
    }
   },
   "source": [
    "<center>**How do we use datasets/objects in w_ipa?**</center>\n",
    "\n",
    "w_ipa is mostly designed for *interactive analysis*, and so being able to quickly maneuver around, or manipulate, datasets is key.\n",
    "\n",
    "Most objects w_ipa presents you can be used like python dictionaries, or like objects with properties on them.  When you simply call the object (such as we did above, with w.current), it printed out a list of strings.  You can use these as keys, or as properties.\n",
    "\n",
    "For instance, the final string printed out above was 'weights'.  This is a dataset which contains the weights for all segments in the current iteration 90.  We can access it as follows:\n",
    "\n",
    "```\n",
    "w.current['weights']\n",
    "OR\n",
    "w.current.weights\n",
    "```\n",
    "\n",
    "As w_ipa is using jupyter (AKA ipython) under the hood, tab completion works as expected.  This makes accessing datasets as properties particularly useful.  For instance, try typing the following, then hitting tab instead of enter:\n",
    "\n",
    "    w.current.we\n",
    "\n",
    "Once you hit tab, this becomes:\n",
    "\n",
    "    w.current.weights\n",
    "    \n",
    "Hit enter, and you'll see it print out a numpy dataset containing the weights of each walker."
   ]
  },
  {
   "cell_type": "code",
   "execution_count": 7,
   "metadata": {
    "slideshow": {
     "slide_type": "slide"
    }
   },
   "outputs": [
    {
     "data": {
      "text/plain": [
       "array([2.37902495e-02, 2.24505717e-02, 2.24505717e-02, 2.37902495e-02,\n",
       "       3.07322411e-02, 3.92306685e-02, 2.37902495e-02, 2.24505717e-02,\n",
       "       2.53466854e-02, 4.33784079e-02, 2.50961150e-02, 2.50961150e-02,\n",
       "       3.79921802e-02, 2.88010064e-02, 2.50961150e-02, 2.50961150e-02,\n",
       "       4.42894227e-02, 6.05068743e-02, 1.12581285e-01, 6.80698674e-02,\n",
       "       6.00044852e-02, 4.72685891e-02, 5.24888459e-02, 5.72208592e-02,\n",
       "       1.73039871e-03, 1.73039871e-03, 1.78734485e-03, 1.73039871e-03,\n",
       "       1.73039871e-03, 1.73039871e-03, 1.73039871e-03, 1.73039871e-03,\n",
       "       5.69461390e-05, 5.69461390e-05, 3.89134022e-05, 1.17761514e-04,\n",
       "       5.67160696e-05, 5.67160696e-05, 5.67160696e-05, 4.99784245e-05,\n",
       "       3.92538381e-05, 3.23787865e-05, 6.17831442e-05, 1.86652345e-05,\n",
       "       2.58441708e-05, 1.86652345e-05, 3.92538381e-05, 3.23787865e-05,\n",
       "       2.15004771e-05, 2.15004771e-05, 2.15004771e-05, 2.15004771e-05,\n",
       "       2.15004771e-05, 2.15004771e-05, 1.86652345e-05, 3.92538381e-05,\n",
       "       8.61472360e-05, 7.11917213e-05, 1.07237968e-04, 1.07237968e-04,\n",
       "       7.11917213e-05, 7.18591169e-05, 7.11917213e-05, 1.07237968e-04,\n",
       "       1.29002863e-04, 1.45075529e-04, 1.18852389e-04, 1.76408169e-04,\n",
       "       3.81770504e-04, 1.52867716e-04, 1.10355891e-04, 3.49358726e-04,\n",
       "       1.05016109e-04, 1.07237968e-04, 1.05016109e-04, 1.72003817e-04,\n",
       "       1.05016109e-04, 1.82964468e-04, 1.04445236e-04, 1.04445236e-04,\n",
       "       2.16895622e-04, 2.59745863e-04, 2.16895622e-04, 3.39126342e-04,\n",
       "       2.67431363e-04, 2.16895622e-04, 2.01475518e-04, 4.02951035e-04,\n",
       "       8.78749949e-04, 6.42101873e-04, 9.65920553e-04, 6.60911679e-04,\n",
       "       1.13139246e-03, 8.51884202e-04, 7.35899027e-04, 7.66520223e-04,\n",
       "       7.73080602e-04, 4.43015752e-04, 4.02397757e-04, 3.04868201e-04,\n",
       "       4.55806802e-04, 3.20323967e-04, 3.00538716e-04, 4.56733232e-04,\n",
       "       5.59163094e-04, 4.59069232e-04, 7.13077052e-04, 6.54226927e-04,\n",
       "       5.95772159e-04, 4.31503157e-04, 5.96903195e-04, 4.50808074e-04,\n",
       "       3.12577068e-05, 3.12577068e-05, 3.12577068e-05, 3.12577068e-05,\n",
       "       3.12577068e-05, 3.12577068e-05, 3.12577068e-05, 3.12577068e-05,\n",
       "       2.50061655e-04, 3.89335516e-04, 3.46345471e-04, 2.81646118e-04,\n",
       "       5.25237285e-04, 3.20323967e-04, 4.01147045e-04, 4.08445322e-04,\n",
       "       4.94374391e-04, 2.50061655e-04, 2.55181493e-04, 4.16086295e-04,\n",
       "       2.80357501e-04, 1.74004913e-04, 2.36039728e-04, 1.04014946e-04,\n",
       "       3.32681951e-04, 2.43367397e-04, 3.92968190e-04, 3.53632410e-04,\n",
       "       2.19689477e-04, 4.67087100e-04, 2.61664259e-04, 2.55181493e-04,\n",
       "       1.64366544e-04, 2.71908463e-04, 2.81064128e-04, 2.98050148e-04,\n",
       "       1.64366544e-04, 1.89243942e-04, 2.44056854e-04, 3.20323967e-04,\n",
       "       2.55181493e-04, 1.57810556e-04, 2.69884454e-04, 1.57810556e-04,\n",
       "       1.57810556e-04, 1.89365225e-04, 1.78834832e-04, 3.08048523e-04,\n",
       "       7.09078302e-05, 1.15364603e-04, 5.76823016e-05, 1.19403438e-04,\n",
       "       7.09078302e-05, 7.09078302e-05, 7.09078302e-05, 7.09078302e-05,\n",
       "       1.70697045e-04, 1.57472029e-04, 1.89243942e-04, 2.00573523e-04,\n",
       "       1.96484095e-04, 2.38214693e-04, 2.00573523e-04, 2.90003906e-04,\n",
       "       1.19618241e-04, 8.69391119e-05, 1.17106531e-04, 8.69391119e-05,\n",
       "       8.50857623e-05, 8.50857623e-05, 9.38928617e-05, 1.16697584e-04,\n",
       "       1.28824868e-04, 1.37594411e-04, 2.15845935e-04, 1.38987604e-04,\n",
       "       1.55516765e-04, 1.37594411e-04, 1.20644633e-04, 1.32728701e-04,\n",
       "       2.76060486e-04, 2.42250672e-04, 3.16007309e-04, 2.22108305e-04,\n",
       "       4.38228808e-04, 4.34105260e-04, 2.31580195e-04, 2.93646801e-04])"
      ]
     },
     "execution_count": 7,
     "metadata": {},
     "output_type": "execute_result"
    }
   ],
   "source": [
    "w.current.weights"
   ]
  },
  {
   "cell_type": "markdown",
   "metadata": {
    "slideshow": {
     "slide_type": "slide"
    }
   },
   "source": [
    "Wow!  That's a lot!  We can do this for other things, too!\n",
    "\n",
    "Some of these datasets aren't as immediately interesting as others (for instance, seg_id is simply the numerical seg_ids).  But pcoord and auxdata tend to be things we're interested in looking at.  Try running\n",
    "\n",
    "    w.current.pcoord\n",
    "    w.current.auxdata\n",
    "    \n",
    "Don't forget that tab completion is your friend."
   ]
  },
  {
   "cell_type": "markdown",
   "metadata": {
    "slideshow": {
     "slide_type": "slide"
    }
   },
   "source": [
    "Okay, so that's a lot of data.  And we're certainly interested in analyzing that!  But what if we're only interested in looking at particular segments?\n",
    "\n",
    "You could manually find an 'interesting' segment, but w_ipa includes a few convenience functions to find segments you may find interesting.  In particular, w.current gives access to the following data:\n",
    "\n",
    "    maxweight\n",
    "    minweight\n",
    "    successful_trajectories\n",
    "    \n",
    "maxweight and minweight return objects which contain data about the segments that are the heaviest and lightest in the current iteration, accordingly.  successful_trajectories tells you which trajectories successfully made it from one state to another (defined by the states in your west.cfg).  For now, let's focus on the heaviest segment.  Is it something we're interested in looking at?"
   ]
  },
  {
   "cell_type": "code",
   "execution_count": 13,
   "metadata": {
    "slideshow": {
     "slide_type": "subslide"
    }
   },
   "outputs": [
    {
     "data": {
      "text/plain": [
       "['auxdata', 'bins', 'parents', 'pcoord', 'plotter', 'seg_id', 'states', 'weights']"
      ]
     },
     "execution_count": 13,
     "metadata": {},
     "output_type": "execute_result"
    }
   ],
   "source": [
    "w.current.maxweight"
   ]
  },
  {
   "cell_type": "code",
   "execution_count": 22,
   "metadata": {
    "slideshow": {
     "slide_type": "subslide"
    }
   },
   "outputs": [
    {
     "name": "stdout",
     "output_type": "stream",
     "text": [
      "Seg ID:                           18\n",
      "weight:                           0.112581285343\n",
      "What post analysis bin are we in: [0 0 0 0 0 0 0 0 0 0 0]\n",
      "What state are we in:             [1 1 1 1 1 1 1 1 1 1 1]\n",
      "auxdata:                          {u'k_ether_o_rmsd': array([0., 0., 0., 0., 0., 0., 0., 0., 0., 0., 0.])}\n",
      "pcoord values:                    array([[1.050654  ],\n",
      "       [1.678754  ],\n",
      "       [1.3810539 ],\n",
      "       [0.974054  ],\n",
      "       [1.1174539 ],\n",
      "       [1.572054  ],\n",
      "       [1.5944539 ],\n",
      "       [1.392354  ],\n",
      "       [1.056754  ],\n",
      "       [1.324854  ],\n",
      "       [0.84605396]], dtype=float32)\n"
     ]
    }
   ],
   "source": [
    "# Let's look at a bunch of these properties!\n",
    "\n",
    "print('Seg ID:                           {}'.format(w.current.maxweight.seg_id))\n",
    "print('weight:                           {}'.format(w.current.maxweight.weights))\n",
    "print('What post analysis bin are we in: {}'.format(w.current.maxweight.bins))\n",
    "print('What state are we in:             {}'.format(w.current.maxweight.states))\n",
    "print('auxdata:                          {}'.format(w.current.maxweight.auxdata))\n",
    "print('pcoord values:                    {}'.format(w.current.maxweight.pcoord))"
   ]
  },
  {
   "cell_type": "markdown",
   "metadata": {
    "slideshow": {
     "slide_type": "slide"
    }
   },
   "source": [
    "<center>**Wait, these are all different lengths.  What gives?**</center>\n",
    "\n",
    "Each segment/trajectory/walker in WESTPA contains multiple frames of trajectory data.  For instance, in this WE simulation, each trajectory contains 11 timepoints.  Therefore, segment 18 in iteration 90 has 11 pcoord values, 11 auxdata values, and it can switch bins and states 11 times.\n",
    "\n",
    "However, the WE algorithm is only run at the *end* of the simulation, and this is where properties such as the weight and seg_id are updated.  Therefore, those are integer datatypes.\n",
    "\n",
    "auxdata is a little unique: our simulations can contain any number of auxiliary datasets with any unique name.  Here, they're returned as a dictionary where the key: value pair is the dataset name defined in west.cfg, and the value is a numpy array containing the actual dataset."
   ]
  },
  {
   "cell_type": "markdown",
   "metadata": {
    "slideshow": {
     "slide_type": "slide"
    }
   },
   "source": [
    "<center>**What is state 1?  How am I supposed to remember what that is?**</center>\n",
    "\n",
    "Segment 18 above was in state 1 during the entire iteration.  But what IS state 1?\n",
    "\n",
    "**State 1 is whatever we defined it to be in west.cfg**\n",
    "\n",
    "But we don't have to go back to west.cfg to see it.  Simply run:\n",
    "\n",
    "    w.state_labels\n",
    "    \n",
    "to remember what state 1 actually is.\n",
    "\n",
    "It's also in bin 0 the entire time (note that these are the bins defined in west.cfg for this analysis scheme, NOT what was used in the simulation).  What's the pcoord value of that bin?  Run:\n",
    "\n",
    "    w.bin_labels\n",
    "    \n",
    "to find out."
   ]
  },
  {
   "cell_type": "code",
   "execution_count": 23,
   "metadata": {
    "slideshow": {
     "slide_type": "subslide"
    }
   },
   "outputs": [
    {
     "name": "stdout",
     "output_type": "stream",
     "text": [
      "State labels and definitions!\n",
      "0: unbound\n",
      "1: bound\n",
      "2: Unknown\n"
     ]
    }
   ],
   "source": [
    "w.state_labels"
   ]
  },
  {
   "cell_type": "code",
   "execution_count": 27,
   "metadata": {
    "slideshow": {
     "slide_type": "subslide"
    }
   },
   "outputs": [
    {
     "name": "stdout",
     "output_type": "stream",
     "text": [
      "Bin definitions! \n",
      "0: [(0.0, 2.2)]\n",
      "1: [(2.2, 24.0)]\n",
      "2: [(24.0, 100000)]\n"
     ]
    }
   ],
   "source": [
    "w.bin_labels"
   ]
  },
  {
   "cell_type": "markdown",
   "metadata": {
    "slideshow": {
     "slide_type": "subslide"
    }
   },
   "source": [
    "Ah, so this segment was in the bound state ensemble, and the pcoord value remained between 0.0 and 2.2 for this iteration.  Well, we can see that from the pcoord value, as well."
   ]
  },
  {
   "cell_type": "markdown",
   "metadata": {
    "slideshow": {
     "slide_type": "slide"
    }
   },
   "source": [
    "<center>**What is the history of segment 18?  What about any children it has?**</current>\n",
    "\n",
    "Okay, so we know what segment 18 was doing during this time frame.  But where did it come from?  And if it was a parent, did anything interesting happen with the children?\n",
    "\n",
    "w.past and w.future are here for this exact reason.  They're very similar to w.current, but they are keyed to give information about the segments in w.current.\n",
    "\n",
    "For instance, if we wish to figure out what the weight of segment 18's parent was, we COULD run the following code:\n",
    "\n",
    "    parent = w.current[18].parents\n",
    "    w.iteration -= 1\n",
    "    w.current[parent].weights\n",
    "\n",
    "That's a bit messy, though.  Why not just run:\n",
    "\n",
    "    w.past[18].weights\n",
    "    \n",
    "instead?  And if we wanted to figure out whether parent 18 had any children, we COULD run the following python code:\n",
    "\n",
    "    w.iteration += 1\n",
    "    children = np.where(w.current.parents == 18)[0]\n",
    "    w.current[children]\n",
    "    \n",
    "but running the following is a lot easier:\n",
    "\n",
    "    w.future[18]\n",
    "    \n",
    "It's worth remembering that segments always have a past, but not always a future.  In addition, segments may produce *multiple* children, and so the values returned by `w.future[seg_id]` are usually more complicated.  Let's see how."
   ]
  },
  {
   "cell_type": "code",
   "execution_count": 38,
   "metadata": {
    "slideshow": {
     "slide_type": "slide"
    }
   },
   "outputs": [
    {
     "name": "stdout",
     "output_type": "stream",
     "text": [
      "Segment 18 parent weight:      0.112581285343\n",
      "Segment 18 number of children: 3\n"
     ]
    }
   ],
   "source": [
    "# What was our parent weight?  And what about the children?\n",
    "\n",
    "print('Segment 18 parent weight:      {}'.format(w.past[18].weights))\n",
    "print('Segment 18 number of children: {}'.format(w.future[18].seg_id.shape[0]))"
   ]
  },
  {
   "cell_type": "markdown",
   "metadata": {
    "slideshow": {
     "slide_type": "subslide"
    }
   },
   "source": [
    "If you noticed, I've been accessing w.future and w.past using a numerical value (18) referring to a particular seg_id.  I can do the same for w.current; try running `w.current[18]` and see what values you can access!\n",
    "\n",
    "It looks like we have 3 children.  We can determine their seg_ids and weights pretty easily."
   ]
  },
  {
   "cell_type": "code",
   "execution_count": 39,
   "metadata": {
    "slideshow": {
     "slide_type": "subslide"
    }
   },
   "outputs": [
    {
     "name": "stdout",
     "output_type": "stream",
     "text": [
      "[18 21 22]\n",
      "[0.0375271 0.0375271 0.0375271]\n"
     ]
    }
   ],
   "source": [
    "print(w.future[18].seg_id)\n",
    "print(w.future[18].weights)"
   ]
  },
  {
   "cell_type": "markdown",
   "metadata": {
    "slideshow": {
     "slide_type": "slide"
    }
   },
   "source": [
    "Okay, so we can easily look one iteration forward and backwards.  But what about the ancestors of segment 18?  What was the ancestor doing in iteration 1?\n",
    "\n",
    "Let's use the built in trace function.  It's fairly simple; just run w.trace(), give it a seg_id, and store the result in an object.  That is,\n",
    "\n",
    "    s = w.trace(18)\n",
    "    \n",
    "w.trace knows what the current iteration is, so there's no need to specify.  It returns an object similar to `w.current[18]`, except that it also contains *all* historical information."
   ]
  },
  {
   "cell_type": "code",
   "execution_count": 42,
   "metadata": {
    "slideshow": {
     "slide_type": "subslide"
    }
   },
   "outputs": [
    {
     "data": {
      "text/plain": [
       "['auxdata', 'bins', 'iteration', 'pcoord', 'seg_id', 'state_labels', 'states', 'weights']"
      ]
     },
     "execution_count": 42,
     "metadata": {},
     "output_type": "execute_result"
    }
   ],
   "source": [
    "s = w.trace(18)\n",
    "s"
   ]
  },
  {
   "cell_type": "markdown",
   "metadata": {
    "slideshow": {
     "slide_type": "subslide"
    }
   },
   "source": [
    "It's a fast function; faster than tracing it by hand.\n",
    "\n",
    "Auxdata, bins, pcoord, and states are all going to be very large; their shape should be the product of the number of timepoints per iteration and the trajectory length.  As we're at iteration 90, and have 11 timepoints per tau, we should have 990 values in each dataset!\n",
    "\n",
    "seg_id, iteration, and weights are only updated every iteration, so their size is equal to the trajectory length.\n",
    "\n",
    "Rather than visually inspecting each value, let's just plot it!  Run\n",
    "\n",
    "    clear\n",
    "    s.weights.plot()\n",
    "    clear\n",
    "    s.pcoord.plot()\n",
    "    clear\n",
    "    \n",
    "and you'll see the log10 of the weights, and the pcoord plotted out, in the terminal.  It's enough to see where thing are going!"
   ]
  },
  {
   "cell_type": "markdown",
   "metadata": {
    "slideshow": {
     "slide_type": "slide"
    }
   },
   "source": [
    "<center>**Can I plot the evolution of a rate constant?**</center>\n",
    "\n",
    "Certainly.  w.current contains information about your rate constant, at this current iteration, according to whatever averaging scheme you've selected.  Run the following to see your rate constants and upper/lower CIs.  Remember that tab completion is your friend!\n",
    "\n",
    "    w.current.direct.rate_evolution\n",
    "    \n",
    "or, alternatively,\n",
    "\n",
    "    w.current.rate_evolution.direct\n",
    "    \n",
    "w_ipa isn't too picky about the order."
   ]
  },
  {
   "cell_type": "code",
   "execution_count": 46,
   "metadata": {
    "slideshow": {
     "slide_type": "subslide"
    }
   },
   "outputs": [
    {
     "data": {
      "text/plain": [
       "rate_evolution data:\n",
       "unbound -> bound  : mean=0.000000000000000e+00 CI=(0.000000000000000e+00, 0.000000000000000e+00) * tau^-1\n",
       "bound   -> unbound: mean=6.226638166338148e-05 CI=(4.296496971020543e-05, 8.367173429386358e-05) * tau^-1\n",
       "To access data, index via the following names:\n",
       "['ci_lbound', 'ci_ubound', 'corr_len', 'error', 'expected', 'iter_start', 'iter_stop', 'name', 'plot', 'raw', 'sterr']"
      ]
     },
     "execution_count": 46,
     "metadata": {},
     "output_type": "execute_result"
    }
   ],
   "source": [
    "w.current.direct.rate_evolution"
   ]
  },
  {
   "cell_type": "markdown",
   "metadata": {
    "slideshow": {
     "slide_type": "subslide"
    }
   },
   "source": [
    "We have an estimate for our bound to unbound rate constant!  That's great.  To plot it, simply call the plot function on the rate_evolution object, and send in the arguments (1,0), as otherwise it defaults to plotting the 0 to 1 rate constant\n",
    "\n",
    "    clear\n",
    "    w.current.direct.rate_evolution.plot(1,0)\n",
    "    \n",
    "w_ipa tries to be clever and show the upper and lower CI on the plot, as well."
   ]
  },
  {
   "cell_type": "markdown",
   "metadata": {
    "slideshow": {
     "slide_type": "slide"
    }
   },
   "source": [
    "<center>**What if I want to compare the rate constant estimates from two analysis schemes?**</center>\n",
    "\n",
    "This is also easy!  You can access the current/past/future objects from different analysis schemes directly.  We have two schemes defined in our west.cfg file: CANONICAL and WORKSHOP.  You can access them from the w.scheme object:\n",
    "\n",
    "    w.scheme.CANONICAL.current\n",
    "    w.scheme.WORKSHOP.current\n",
    "    \n",
    "You can simply `w.scheme`, and, without hitting enter, hit tab to show a list of the available scheme names.\n",
    "\n",
    "To print out the estimates for the rate constants:\n",
    "\n",
    "    w.scheme.CANONICAL.current.direct.rate_evolution\n",
    "    w.scheme.WORKSHOP.current.direct.rate_evolution"
   ]
  },
  {
   "cell_type": "code",
   "execution_count": 47,
   "metadata": {},
   "outputs": [
    {
     "data": {
      "text/plain": [
       "rate_evolution data:\n",
       "unbound -> bound  : mean=0.000000000000000e+00 CI=(0.000000000000000e+00, 0.000000000000000e+00) * tau^-1\n",
       "bound   -> unbound: mean=6.226638166338148e-05 CI=(4.296496971020543e-05, 8.367173429386358e-05) * tau^-1\n",
       "To access data, index via the following names:\n",
       "['ci_lbound', 'ci_ubound', 'corr_len', 'error', 'expected', 'iter_start', 'iter_stop', 'name', 'plot', 'raw', 'sterr']"
      ]
     },
     "execution_count": 47,
     "metadata": {},
     "output_type": "execute_result"
    }
   ],
   "source": [
    "w.scheme.CANONICAL.current.direct.rate_evolution"
   ]
  },
  {
   "cell_type": "code",
   "execution_count": 48,
   "metadata": {},
   "outputs": [
    {
     "data": {
      "text/plain": [
       "rate_evolution data:\n",
       "unbound -> bound  : mean=0.000000000000000e+00 CI=(0.000000000000000e+00, 0.000000000000000e+00) * tau^-1\n",
       "bound   -> unbound: mean=1.258646169434893e-04 CI=(1.258646169434893e-04, 1.258646169434893e-04) * tau^-1\n",
       "To access data, index via the following names:\n",
       "['ci_lbound', 'ci_ubound', 'corr_len', 'error', 'expected', 'iter_start', 'iter_stop', 'name', 'plot', 'raw', 'sterr']"
      ]
     },
     "execution_count": 48,
     "metadata": {},
     "output_type": "execute_result"
    }
   ],
   "source": [
    "w.scheme.WORKSHOP.current.direct.rate_evolution"
   ]
  },
  {
   "cell_type": "markdown",
   "metadata": {},
   "source": [
    "The state definitions used are the same, but our simulation is short and the error analysis stochastic; "
   ]
  }
 ],
 "metadata": {
  "anaconda-cloud": {},
  "celltoolbar": "Slideshow",
  "kernelspec": {
   "display_name": "Python 2",
   "language": "python",
   "name": "python2"
  },
  "language_info": {
   "codemirror_mode": {
    "name": "ipython",
    "version": 2
   },
   "file_extension": ".py",
   "mimetype": "text/x-python",
   "name": "python",
   "nbconvert_exporter": "python",
   "pygments_lexer": "ipython2",
   "version": "2.7.15"
  },
  "nbpresent": {
   "slides": {
    "0b88f447-3714-4bc1-9fe7-d9cc193bcff5": {
     "id": "0b88f447-3714-4bc1-9fe7-d9cc193bcff5",
     "prev": "8215719e-b365-4551-b1c1-451c42d64fa6",
     "regions": {
      "7db7eaa3-e33e-49f9-ba64-0d285bc52559": {
       "attrs": {
        "height": 0.8,
        "width": 0.8,
        "x": 0.1,
        "y": 0.1
       },
       "content": {
        "cell": "58222ecc-45d1-47bc-8448-7930caeb0322",
        "part": "whole"
       },
       "id": "7db7eaa3-e33e-49f9-ba64-0d285bc52559"
      }
     }
    },
    "168bca20-d9be-4313-a910-002c11a1581b": {
     "id": "168bca20-d9be-4313-a910-002c11a1581b",
     "prev": "2783453f-612c-46aa-b029-efb3d5496e9a",
     "regions": {
      "2580573c-3daa-446e-9a24-3f0b041b8779": {
       "attrs": {
        "height": 0.8,
        "width": 0.8,
        "x": 0.1,
        "y": 0.1
       },
       "content": {
        "cell": "ba01a41e-6ffb-48c3-af9c-183cbee30c14",
        "part": "whole"
       },
       "id": "2580573c-3daa-446e-9a24-3f0b041b8779"
      }
     },
     "theme": null
    },
    "2783453f-612c-46aa-b029-efb3d5496e9a": {
     "id": "2783453f-612c-46aa-b029-efb3d5496e9a",
     "layout": "grid",
     "prev": null,
     "regions": {
      "e1cbcb3d-8aec-4edd-bdc6-a2b3aeb93809": {
       "attrs": {
        "height": 0.8333333333333334,
        "pad": 0.01,
        "width": 0.8333333333333334,
        "x": 0.08333333333333333,
        "y": 0.08333333333333333
       },
       "content": {
        "cell": "687c88ec-55e5-469d-af6c-1be4e60dfd06",
        "part": "whole"
       },
       "id": "e1cbcb3d-8aec-4edd-bdc6-a2b3aeb93809"
      }
     }
    },
    "8215719e-b365-4551-b1c1-451c42d64fa6": {
     "id": "8215719e-b365-4551-b1c1-451c42d64fa6",
     "prev": "9f765ac2-662b-4390-9cad-2e824700f83b",
     "regions": {
      "ff429a7a-9d75-428e-9b98-97d3c300f98c": {
       "attrs": {
        "height": 0.8,
        "width": 0.8,
        "x": 0.1,
        "y": 0.1
       },
       "content": {
        "cell": "cd91bd7a-b608-4157-99f5-7d78ce13d975",
        "part": "whole"
       },
       "id": "ff429a7a-9d75-428e-9b98-97d3c300f98c"
      }
     }
    },
    "9f765ac2-662b-4390-9cad-2e824700f83b": {
     "id": "9f765ac2-662b-4390-9cad-2e824700f83b",
     "prev": "168bca20-d9be-4313-a910-002c11a1581b",
     "regions": {
      "bf86e591-70ea-46ad-a6bb-feaba20f7132": {
       "attrs": {
        "height": 0.8,
        "width": 0.8,
        "x": 0.1,
        "y": 0.1
       },
       "content": {
        "cell": "440bc3d4-8641-4bd4-89b4-b9fd2416993b",
        "part": "whole"
       },
       "id": "bf86e591-70ea-46ad-a6bb-feaba20f7132"
      }
     }
    }
   },
   "themes": {}
  }
 },
 "nbformat": 4,
 "nbformat_minor": 1
}
