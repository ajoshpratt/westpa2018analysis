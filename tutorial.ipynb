{
 "cells": [
  {
   "cell_type": "markdown",
   "metadata": {
    "collapsed": true,
    "nbpresent": {
     "id": "687c88ec-55e5-469d-af6c-1be4e60dfd06"
    },
    "slideshow": {
     "slide_type": "slide"
    }
   },
   "source": [
    "<vcenter><center>**w_ipa: Automated, Convenient Analysis!**</center></vcenter>\n",
    "\n",
    "<center><vcenter>by Audrey Pratt</center></vcenter>"
   ]
  },
  {
   "cell_type": "code",
   "execution_count": 1,
   "metadata": {
    "nbpresent": {
     "id": "6345b628-8f0a-4878-a856-cd480a04d3d2"
    },
    "slideshow": {
     "slide_type": "skip"
    }
   },
   "outputs": [
    {
     "name": "stderr",
     "output_type": "stream",
     "text": [
      "/home/lilith/apps/anaconda/lib/python2.7/site-packages/h5py/__init__.py:36: FutureWarning: Conversion of the second argument of issubdtype from `float` to `np.floating` is deprecated. In future, it will be treated as `np.float64 == np.dtype(float).type`.\n",
      "  from ._conv import register_converters as _register_converters\n"
     ]
    },
    {
     "name": "stdout",
     "output_type": "stream",
     "text": [
      "\n",
      "Welcome to w_ipa (WESTPA Interactive Python Analysis) v. 1.0B!\n",
      "Run w.introduction for a more thorough introduction, or w.help to see a list of options.\n",
      "Running analysis & loading files.\n",
      "\n",
      "Complete!\n",
      "Setting iteration to iter 1500.\n"
     ]
    }
   ],
   "source": [
    "# This is just a setup cell that allows us to use w_ipa in a notebook environment.\n",
    "# I need to run this to ensure that everything works, but I don't want to present this slide, as\n",
    "# we'll be running things on a cluster and using the terminal utilities.\n",
    "\n",
    "%matplotlib inline\n",
    "from matplotlib import pyplot as plt\n",
    "import numpy as np\n",
    "import w_ipa\n",
    "w = w_ipa.WIPI()\n",
    "# At startup, it will load or run the analysis schemes specified in the configuration file (typically west.cfg)\n",
    "w.main()\n",
    "w.interface = 'matplotlib'"
   ]
  },
  {
   "cell_type": "markdown",
   "metadata": {
    "nbpresent": {
     "id": "ba01a41e-6ffb-48c3-af9c-183cbee30c14"
    },
    "slideshow": {
     "slide_type": "slide"
    }
   },
   "source": [
    "<center>**w_ipa: WESTPA Interactive Python Analysis**</center>\n",
    "\n",
    "w_ipa is a WESTPA tool that automates analysis using 'analysis schemes', and allows for interactive analysis of WESTPA data.  In this tutorial, I'll cover how to use this tool to do the following:\n",
    "\n",
    "1. Calculate rate constants/fluxes\n",
    "2. Adjust & and use alternate state definitions\n",
    "3. Trace segments (weight, pcoord, auxdata)\n",
    "4. Plot all of the above in the terminal!\n",
    "\n",
    "To begin running this tutorial, in your terminal on H2P, run the following:\n",
    "\n",
    "```\n",
    "git clone https://github.com/ajoshpratt/westpa2018analysis.git\n",
    "cd westpa2018analysis\n",
    "./create_conda_environment.sh\n",
    "```\n",
    "You'll need to answer 'y' to all the prompts.  Once it has finished:\n",
    "```\n",
    "./start.sh\n",
    "cd westpa2018analysis\n",
    "source env.sh\n",
    "cd SHORT_TEST\n",
    "w_ipa -t\n",
    "```\n",
    "\n",
    "Let's begin!"
   ]
  },
  {
   "cell_type": "markdown",
   "metadata": {},
   "source": [
    "<center>**How does analysis in WESTPA normally work?**</center>\n",
    "\n",
    "To calculate rate constants, fluxes, and state populations from a WE simulation run under equilibrium conditions, you must first split your simulation into separate steady-state ensembles and solve from there.  WESTPA comes with tools that can calculate these properties using either of the following methods:\n",
    "\n",
    "1. Non-Markovian reweighting (a matrix-based calculation)\n",
    "2. Direct calculation (*i.e.*, directly tracing trajectories and directly calculating properties)\n",
    "\n",
    "These tools, known as **w_reweight** and **w_direct**, appropriately, require that your parameter space is split into bins and that some bins correspond to a known 'state'.  The tool that accomplishes this is known as **w_assign**, which bins and assigns trajectory walkers (or *segments*) into different steady-state ensembles and places the output into a file called **assign.h5**, by default.\n",
    "\n",
    "**w_reweight/w_direct** will calculate and average rate constants, fluxes, and state populations according to whatever averaging scheme you choose.  Importantly, in a typical project, **you may wish to use various state definitions and/or averaging schemes!**."
   ]
  },
  {
   "cell_type": "markdown",
   "metadata": {},
   "source": [
    "<center>**What is the typical analysis workflow?**</center>\n",
    "\n",
    "A typical analysis workflow is as follows:\n",
    "\n",
    "1. Create a bin space and define states that are appropriate for your system.\n",
    "2. Run w_assign with your bin scheme/state definitions and create **assign.h5**.\n",
    "3. Run w_reweight/w_direct with the averaging options you desire and create **reweight.h5/direct.h5**.\n",
    "\n",
    "If you choose to change bin definitions, state definitions, or your averaging scheme, you will overwrite assign.h5 and/or direct.h5/reweight.h5 when you re-run those tools.  ***It is critical that you keep track of which files pertain to which analysis scheme***.\n",
    "\n",
    "* assign.h5 contains information about the bins and state definitions used.\n",
    "* direct.h5/reweigh5.h5 contain information about what averaging scheme was used, but no information about the actual states.\n",
    "\n",
    "This introduces the possibility of error!"
   ]
  },
  {
   "cell_type": "markdown",
   "metadata": {},
   "source": [
    "<center>**What if we wish to analyze the simulation as it progresses?**</center>\n",
    "\n",
    "Running w_assign & w_direct/w_reweight while the simulation is on a cluster is straightforward.  However, visualization (such as creating graphs to analyze the evolution of the rate constant) typically requires creating PDFs, which can involve copying data to and from a local computer.\n",
    "\n",
    "In addition, analyzing the progress coordinate or auxiliary data (such as the RMSD of a protein or molecule) typically requires loading the main data file (typically **west.h5**) into python and running a custom analysis.\n",
    "\n",
    "Often, we simply want a fast answer to the question, *how is my simulation proceeding?*"
   ]
  },
  {
   "cell_type": "markdown",
   "metadata": {},
   "source": [
    "<center>**What about tracing the properties of a particular trajectory?**</center>\n",
    "\n",
    "One of the major strengths of the WE method is that it maintains complete trajectories.  Up until now, tracking properties of individual pathways over the course of the simulation has typically required writing custom python code and becoming familiar with the structure of the main data file (west.h5). "
   ]
  },
  {
   "cell_type": "markdown",
   "metadata": {},
   "source": [
    "<center>**w_ipa solves all of these problems!**</center>\n",
    "\n",
    "w_ipa allows for the creation of 'analysis schemes', stored in the west.cfg file, which involve the following:\n",
    "\n",
    "1. Bin and state definition.\n",
    "2. Averaging options\n",
    "\n",
    "w_ipa will automatically run any analysis necessary, and will update when any options are changed AND when the main data file (west.h5) has more iterations than when the analysis was previously run.  Therefore, **the results of w_ipa are always up to date with the options specified in the west.cfg file.**\n",
    "\n",
    "Once w_ipa has finished updating any analysis files necessary, it will drop you into an ipython prompt in which the object **w** gives easy access to analysis data, trajectory tracing functions, and tools that allow you to generate plots within the terminal (using ncurses). "
   ]
  },
  {
   "cell_type": "markdown",
   "metadata": {
    "slideshow": {
     "slide_type": "slide"
    }
   },
   "source": [
    "<center>**How is w_ipa configured?**</center>\n",
    "\n",
    "A WESTPA simulation primarily uses the **west.cfg** file, which can be considered the master parameter file. As such, w_ipa uses it as well, under the heading of a section titled **analysis**.\n",
    "\n",
    "The general format of the analysis section is as follows.  A more detailed example is available in the ipython notebook on the github site:\n",
    "\n",
    "```\n",
    "analysis:\n",
    "  directory: ANALYSIS # Where are we storing the analysis files?\n",
    "  OPTIONS THAT SHOULD APPLY TO EVERY SCHEME\n",
    "  analysis_schemes:\n",
    "    SCHEME_NAME:\n",
    "      OPTIONS THAT APPLY ONLY TO THIS SCHEME.  These take precedence over the general ones.\n",
    "      bins!\n",
    "      states!\n",
    "```\n",
    "\n",
    "The assign.h5, reweight.h5, and direct.h5 files are stored under ANALYSIS/SCHEME_NAME.\n",
    "\n",
    "The optional arguments that can be passed in to w_assign, w_direct, and w_reweight can be specified by creating a section with the tool name and using argument: value pairs.  We'll see an example in a minute!"
   ]
  },
  {
   "cell_type": "markdown",
   "metadata": {
    "slideshow": {
     "slide_type": "slide"
    }
   },
   "source": [
    "If you're reading this, you've downloaded the ipython notebook!  Excellent!\n",
    "\n",
    "The best example really is what's in the west.cfg already, but here you go.\n",
    "```\n",
    "analysis:\n",
    "  directory: ANALYSIS # this is the directory where the analysis files are stored\n",
    "  postanalysis: True # should we run the Non-Markovian reweighting scheme?\n",
    "  kinetics:\n",
    "    # Command line arguments that we want applied to both w_direct and w_reweight for EVERY scheme\n",
    "  w_assign:\n",
    "    # Optional command line arguments for w_assign.  This would normally apply when you wish to use\n",
    "    # an auxiliary dataset for analysis.\n",
    "  analysis_schemes:\n",
    "    SCHEME_NAME:\n",
    "      enabled: True\n",
    "      kinetics:\n",
    "        # command line arguments that we want applied to this scheme only.\n",
    "      states: \n",
    "        - label: STATE_NAME\n",
    "          coords: [[X]] # A value for the state that will map to a bin.\n",
    "      bins:\n",
    "        - type: RectilinearBinMapper # WESTPA bin mapper type.\n",
    "          boundaries: [[0.0, 1000000]] # Should encompass all possible pcoord types.\n",
    "```"
   ]
  },
  {
   "cell_type": "markdown",
   "metadata": {},
   "source": [
    "<center>**What's in OUR west.cfg?**</center>\n",
    "\n",
    "If you were to open west.cfg, you'd see the following at the bottom:\n",
    "\n",
    "```\n",
    "analysis:\n",
    "    directory: ANALYSIS\n",
    "    postanalysis: True\n",
    "    #w_assign:\n",
    "    #  construct_dataset: system.distpcoord\n",
    "    kinetics:\n",
    "      step_iter: 1\n",
    "      evolution: cumulative\n",
    "      extra: [ 'disable-correl' ]\n",
    "    analysis_schemes:\n",
    "      CANONICAL:\n",
    "        enabled: True\n",
    "        states:\n",
    "          - label: unbound\n",
    "            coords: [[24.0]]\n",
    "          - label: bound\n",
    "            coords: [[2.19]]\n",
    "        bins:\n",
    "          - type: RectilinearBinMapper\n",
    "            boundaries: [[0.0,2.2,24.00,100000]]\n",
    "```"
   ]
  },
  {
   "cell_type": "markdown",
   "metadata": {
    "slideshow": {
     "slide_type": "slide"
    }
   },
   "source": [
    "Once you've run w_ipa, you should see something that looks like the following:\n",
    "```\n",
    "Welcome to w_ipa (WESTPA Interactive Python Analysis) v. 1.0B!\n",
    "Run w.introduction for a more thorough introduction, or w.help to see a list of options.\n",
    "Running analysis & loading files.\n",
    "\n",
    "Complete!\n",
    "Setting iteration to iter 98.\n",
    "Your current scheme, system and iteration are : CANONICAL, /gscratch2/lchong/ajp105/westpa2018analysis/SHORT_TEST, 98\n",
    "\n",
    "In [1]: \n",
    "```\n",
    "\n",
    "We can now begin analyzing this simulation!  In the directory SHORT_TEST, we're only analyzing the initial portion of the simulation, as analysis tools scale with the number of iterations."
   ]
  },
  {
   "cell_type": "code",
   "execution_count": null,
   "metadata": {
    "collapsed": true,
    "nbpresent": {
     "id": "58222ecc-45d1-47bc-8448-7930caeb0322"
    }
   },
   "outputs": [],
   "source": []
  }
 ],
 "metadata": {
  "anaconda-cloud": {},
  "celltoolbar": "Slideshow",
  "kernelspec": {
   "display_name": "Python 2",
   "language": "python",
   "name": "python2"
  },
  "language_info": {
   "codemirror_mode": {
    "name": "ipython",
    "version": 2
   },
   "file_extension": ".py",
   "mimetype": "text/x-python",
   "name": "python",
   "nbconvert_exporter": "python",
   "pygments_lexer": "ipython2",
   "version": "2.7.15"
  },
  "nbpresent": {
   "slides": {
    "0b88f447-3714-4bc1-9fe7-d9cc193bcff5": {
     "id": "0b88f447-3714-4bc1-9fe7-d9cc193bcff5",
     "prev": "8215719e-b365-4551-b1c1-451c42d64fa6",
     "regions": {
      "7db7eaa3-e33e-49f9-ba64-0d285bc52559": {
       "attrs": {
        "height": 0.8,
        "width": 0.8,
        "x": 0.1,
        "y": 0.1
       },
       "content": {
        "cell": "58222ecc-45d1-47bc-8448-7930caeb0322",
        "part": "whole"
       },
       "id": "7db7eaa3-e33e-49f9-ba64-0d285bc52559"
      }
     }
    },
    "168bca20-d9be-4313-a910-002c11a1581b": {
     "id": "168bca20-d9be-4313-a910-002c11a1581b",
     "prev": "2783453f-612c-46aa-b029-efb3d5496e9a",
     "regions": {
      "2580573c-3daa-446e-9a24-3f0b041b8779": {
       "attrs": {
        "height": 0.8,
        "width": 0.8,
        "x": 0.1,
        "y": 0.1
       },
       "content": {
        "cell": "ba01a41e-6ffb-48c3-af9c-183cbee30c14",
        "part": "whole"
       },
       "id": "2580573c-3daa-446e-9a24-3f0b041b8779"
      }
     },
     "theme": null
    },
    "2783453f-612c-46aa-b029-efb3d5496e9a": {
     "id": "2783453f-612c-46aa-b029-efb3d5496e9a",
     "layout": "grid",
     "prev": null,
     "regions": {
      "e1cbcb3d-8aec-4edd-bdc6-a2b3aeb93809": {
       "attrs": {
        "height": 0.8333333333333334,
        "pad": 0.01,
        "width": 0.8333333333333334,
        "x": 0.08333333333333333,
        "y": 0.08333333333333333
       },
       "content": {
        "cell": "687c88ec-55e5-469d-af6c-1be4e60dfd06",
        "part": "whole"
       },
       "id": "e1cbcb3d-8aec-4edd-bdc6-a2b3aeb93809"
      }
     }
    },
    "8215719e-b365-4551-b1c1-451c42d64fa6": {
     "id": "8215719e-b365-4551-b1c1-451c42d64fa6",
     "prev": "9f765ac2-662b-4390-9cad-2e824700f83b",
     "regions": {
      "ff429a7a-9d75-428e-9b98-97d3c300f98c": {
       "attrs": {
        "height": 0.8,
        "width": 0.8,
        "x": 0.1,
        "y": 0.1
       },
       "content": {
        "cell": "cd91bd7a-b608-4157-99f5-7d78ce13d975",
        "part": "whole"
       },
       "id": "ff429a7a-9d75-428e-9b98-97d3c300f98c"
      }
     }
    },
    "9f765ac2-662b-4390-9cad-2e824700f83b": {
     "id": "9f765ac2-662b-4390-9cad-2e824700f83b",
     "prev": "168bca20-d9be-4313-a910-002c11a1581b",
     "regions": {
      "bf86e591-70ea-46ad-a6bb-feaba20f7132": {
       "attrs": {
        "height": 0.8,
        "width": 0.8,
        "x": 0.1,
        "y": 0.1
       },
       "content": {
        "cell": "440bc3d4-8641-4bd4-89b4-b9fd2416993b",
        "part": "whole"
       },
       "id": "bf86e591-70ea-46ad-a6bb-feaba20f7132"
      }
     }
    }
   },
   "themes": {}
  }
 },
 "nbformat": 4,
 "nbformat_minor": 1
}
